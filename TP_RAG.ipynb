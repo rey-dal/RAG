{
  "nbformat": 4,
  "nbformat_minor": 0,
  "metadata": {
    "colab": {
      "provenance": []
    },
    "kernelspec": {
      "name": "python3",
      "display_name": "Python 3"
    },
    "language_info": {
      "name": "python"
    }
  },
  "cells": [
    {
      "cell_type": "markdown",
      "source": [
        "# TP : Génération augmentée de récupération (RAG)\n",
        "\n",
        "## Installation et importation des bibliothèques"
      ],
      "metadata": {
        "id": "gpdy2Hm9p02b"
      }
    },
    {
      "cell_type": "code",
      "source": [
        "!pip install -U langchain-community  # Bibliothèque facilitant l'intégration de LLM dans des applications\n",
        "!pip install faiss-gpu  # FAISS est une méthode d'indexation et de récupération à base d'embeddings\n",
        "!pip install datasets  # Téléchargement de jeux de données\n",
        "\n",
        "# Ligne à supprimer une fois que transformers 4.46.4 sera sorti\n",
        "!pip install -U git+https://github.com/huggingface/transformers  # Mise à jour de transformers, nous avons besoin de la version la plus récente"
      ],
      "metadata": {
        "id": "DBhjtBzyBIEE",
        "colab": {
          "base_uri": "https://localhost:8080/"
        },
        "outputId": "89456926-093b-48c3-fc6d-81eaf158bf9b"
      },
      "execution_count": null,
      "outputs": [
        {
          "output_type": "stream",
          "name": "stdout",
          "text": [
            "Requirement already satisfied: langchain-community in /usr/local/lib/python3.10/dist-packages (0.3.8)\n",
            "Requirement already satisfied: PyYAML>=5.3 in /usr/local/lib/python3.10/dist-packages (from langchain-community) (6.0.2)\n",
            "Requirement already satisfied: SQLAlchemy<2.0.36,>=1.4 in /usr/local/lib/python3.10/dist-packages (from langchain-community) (2.0.35)\n",
            "Requirement already satisfied: aiohttp<4.0.0,>=3.8.3 in /usr/local/lib/python3.10/dist-packages (from langchain-community) (3.11.2)\n",
            "Requirement already satisfied: dataclasses-json<0.7,>=0.5.7 in /usr/local/lib/python3.10/dist-packages (from langchain-community) (0.6.7)\n",
            "Requirement already satisfied: httpx-sse<0.5.0,>=0.4.0 in /usr/local/lib/python3.10/dist-packages (from langchain-community) (0.4.0)\n",
            "Requirement already satisfied: langchain<0.4.0,>=0.3.8 in /usr/local/lib/python3.10/dist-packages (from langchain-community) (0.3.9)\n",
            "Requirement already satisfied: langchain-core<0.4.0,>=0.3.21 in /usr/local/lib/python3.10/dist-packages (from langchain-community) (0.3.21)\n",
            "Requirement already satisfied: langsmith<0.2.0,>=0.1.125 in /usr/local/lib/python3.10/dist-packages (from langchain-community) (0.1.143)\n",
            "Requirement already satisfied: numpy<2,>=1.22.4 in /usr/local/lib/python3.10/dist-packages (from langchain-community) (1.26.4)\n",
            "Requirement already satisfied: pydantic-settings<3.0.0,>=2.4.0 in /usr/local/lib/python3.10/dist-packages (from langchain-community) (2.6.1)\n",
            "Requirement already satisfied: requests<3,>=2 in /usr/local/lib/python3.10/dist-packages (from langchain-community) (2.32.3)\n",
            "Requirement already satisfied: tenacity!=8.4.0,<10,>=8.1.0 in /usr/local/lib/python3.10/dist-packages (from langchain-community) (9.0.0)\n",
            "Requirement already satisfied: aiohappyeyeballs>=2.3.0 in /usr/local/lib/python3.10/dist-packages (from aiohttp<4.0.0,>=3.8.3->langchain-community) (2.4.3)\n",
            "Requirement already satisfied: aiosignal>=1.1.2 in /usr/local/lib/python3.10/dist-packages (from aiohttp<4.0.0,>=3.8.3->langchain-community) (1.3.1)\n",
            "Requirement already satisfied: attrs>=17.3.0 in /usr/local/lib/python3.10/dist-packages (from aiohttp<4.0.0,>=3.8.3->langchain-community) (24.2.0)\n",
            "Requirement already satisfied: frozenlist>=1.1.1 in /usr/local/lib/python3.10/dist-packages (from aiohttp<4.0.0,>=3.8.3->langchain-community) (1.5.0)\n",
            "Requirement already satisfied: multidict<7.0,>=4.5 in /usr/local/lib/python3.10/dist-packages (from aiohttp<4.0.0,>=3.8.3->langchain-community) (6.1.0)\n",
            "Requirement already satisfied: propcache>=0.2.0 in /usr/local/lib/python3.10/dist-packages (from aiohttp<4.0.0,>=3.8.3->langchain-community) (0.2.0)\n",
            "Requirement already satisfied: yarl<2.0,>=1.17.0 in /usr/local/lib/python3.10/dist-packages (from aiohttp<4.0.0,>=3.8.3->langchain-community) (1.17.2)\n",
            "Requirement already satisfied: async-timeout<6.0,>=4.0 in /usr/local/lib/python3.10/dist-packages (from aiohttp<4.0.0,>=3.8.3->langchain-community) (4.0.3)\n",
            "Requirement already satisfied: marshmallow<4.0.0,>=3.18.0 in /usr/local/lib/python3.10/dist-packages (from dataclasses-json<0.7,>=0.5.7->langchain-community) (3.23.1)\n",
            "Requirement already satisfied: typing-inspect<1,>=0.4.0 in /usr/local/lib/python3.10/dist-packages (from dataclasses-json<0.7,>=0.5.7->langchain-community) (0.9.0)\n",
            "Requirement already satisfied: langchain-text-splitters<0.4.0,>=0.3.0 in /usr/local/lib/python3.10/dist-packages (from langchain<0.4.0,>=0.3.8->langchain-community) (0.3.2)\n",
            "Requirement already satisfied: pydantic<3.0.0,>=2.7.4 in /usr/local/lib/python3.10/dist-packages (from langchain<0.4.0,>=0.3.8->langchain-community) (2.9.2)\n",
            "Requirement already satisfied: jsonpatch<2.0,>=1.33 in /usr/local/lib/python3.10/dist-packages (from langchain-core<0.4.0,>=0.3.21->langchain-community) (1.33)\n",
            "Requirement already satisfied: packaging<25,>=23.2 in /usr/local/lib/python3.10/dist-packages (from langchain-core<0.4.0,>=0.3.21->langchain-community) (24.2)\n",
            "Requirement already satisfied: typing-extensions>=4.7 in /usr/local/lib/python3.10/dist-packages (from langchain-core<0.4.0,>=0.3.21->langchain-community) (4.12.2)\n",
            "Requirement already satisfied: httpx<1,>=0.23.0 in /usr/local/lib/python3.10/dist-packages (from langsmith<0.2.0,>=0.1.125->langchain-community) (0.27.2)\n",
            "Requirement already satisfied: orjson<4.0.0,>=3.9.14 in /usr/local/lib/python3.10/dist-packages (from langsmith<0.2.0,>=0.1.125->langchain-community) (3.10.11)\n",
            "Requirement already satisfied: requests-toolbelt<2.0.0,>=1.0.0 in /usr/local/lib/python3.10/dist-packages (from langsmith<0.2.0,>=0.1.125->langchain-community) (1.0.0)\n",
            "Requirement already satisfied: python-dotenv>=0.21.0 in /usr/local/lib/python3.10/dist-packages (from pydantic-settings<3.0.0,>=2.4.0->langchain-community) (1.0.1)\n",
            "Requirement already satisfied: charset-normalizer<4,>=2 in /usr/local/lib/python3.10/dist-packages (from requests<3,>=2->langchain-community) (3.4.0)\n",
            "Requirement already satisfied: idna<4,>=2.5 in /usr/local/lib/python3.10/dist-packages (from requests<3,>=2->langchain-community) (3.10)\n",
            "Requirement already satisfied: urllib3<3,>=1.21.1 in /usr/local/lib/python3.10/dist-packages (from requests<3,>=2->langchain-community) (2.2.3)\n",
            "Requirement already satisfied: certifi>=2017.4.17 in /usr/local/lib/python3.10/dist-packages (from requests<3,>=2->langchain-community) (2024.8.30)\n",
            "Requirement already satisfied: greenlet!=0.4.17 in /usr/local/lib/python3.10/dist-packages (from SQLAlchemy<2.0.36,>=1.4->langchain-community) (3.1.1)\n",
            "Requirement already satisfied: anyio in /usr/local/lib/python3.10/dist-packages (from httpx<1,>=0.23.0->langsmith<0.2.0,>=0.1.125->langchain-community) (3.7.1)\n",
            "Requirement already satisfied: httpcore==1.* in /usr/local/lib/python3.10/dist-packages (from httpx<1,>=0.23.0->langsmith<0.2.0,>=0.1.125->langchain-community) (1.0.7)\n",
            "Requirement already satisfied: sniffio in /usr/local/lib/python3.10/dist-packages (from httpx<1,>=0.23.0->langsmith<0.2.0,>=0.1.125->langchain-community) (1.3.1)\n",
            "Requirement already satisfied: h11<0.15,>=0.13 in /usr/local/lib/python3.10/dist-packages (from httpcore==1.*->httpx<1,>=0.23.0->langsmith<0.2.0,>=0.1.125->langchain-community) (0.14.0)\n",
            "Requirement already satisfied: jsonpointer>=1.9 in /usr/local/lib/python3.10/dist-packages (from jsonpatch<2.0,>=1.33->langchain-core<0.4.0,>=0.3.21->langchain-community) (3.0.0)\n",
            "Requirement already satisfied: annotated-types>=0.6.0 in /usr/local/lib/python3.10/dist-packages (from pydantic<3.0.0,>=2.7.4->langchain<0.4.0,>=0.3.8->langchain-community) (0.7.0)\n",
            "Requirement already satisfied: pydantic-core==2.23.4 in /usr/local/lib/python3.10/dist-packages (from pydantic<3.0.0,>=2.7.4->langchain<0.4.0,>=0.3.8->langchain-community) (2.23.4)\n",
            "Requirement already satisfied: mypy-extensions>=0.3.0 in /usr/local/lib/python3.10/dist-packages (from typing-inspect<1,>=0.4.0->dataclasses-json<0.7,>=0.5.7->langchain-community) (1.0.0)\n",
            "Requirement already satisfied: exceptiongroup in /usr/local/lib/python3.10/dist-packages (from anyio->httpx<1,>=0.23.0->langsmith<0.2.0,>=0.1.125->langchain-community) (1.2.2)\n",
            "Requirement already satisfied: faiss-gpu in /usr/local/lib/python3.10/dist-packages (1.7.2)\n",
            "Requirement already satisfied: datasets in /usr/local/lib/python3.10/dist-packages (3.1.0)\n",
            "Requirement already satisfied: filelock in /usr/local/lib/python3.10/dist-packages (from datasets) (3.16.1)\n",
            "Requirement already satisfied: numpy>=1.17 in /usr/local/lib/python3.10/dist-packages (from datasets) (1.26.4)\n",
            "Requirement already satisfied: pyarrow>=15.0.0 in /usr/local/lib/python3.10/dist-packages (from datasets) (17.0.0)\n",
            "Requirement already satisfied: dill<0.3.9,>=0.3.0 in /usr/local/lib/python3.10/dist-packages (from datasets) (0.3.8)\n",
            "Requirement already satisfied: pandas in /usr/local/lib/python3.10/dist-packages (from datasets) (2.2.2)\n",
            "Requirement already satisfied: requests>=2.32.2 in /usr/local/lib/python3.10/dist-packages (from datasets) (2.32.3)\n",
            "Requirement already satisfied: tqdm>=4.66.3 in /usr/local/lib/python3.10/dist-packages (from datasets) (4.66.6)\n",
            "Requirement already satisfied: xxhash in /usr/local/lib/python3.10/dist-packages (from datasets) (3.5.0)\n",
            "Requirement already satisfied: multiprocess<0.70.17 in /usr/local/lib/python3.10/dist-packages (from datasets) (0.70.16)\n",
            "Requirement already satisfied: fsspec<=2024.9.0,>=2023.1.0 in /usr/local/lib/python3.10/dist-packages (from fsspec[http]<=2024.9.0,>=2023.1.0->datasets) (2024.9.0)\n",
            "Requirement already satisfied: aiohttp in /usr/local/lib/python3.10/dist-packages (from datasets) (3.11.2)\n",
            "Requirement already satisfied: huggingface-hub>=0.23.0 in /usr/local/lib/python3.10/dist-packages (from datasets) (0.26.2)\n",
            "Requirement already satisfied: packaging in /usr/local/lib/python3.10/dist-packages (from datasets) (24.2)\n",
            "Requirement already satisfied: pyyaml>=5.1 in /usr/local/lib/python3.10/dist-packages (from datasets) (6.0.2)\n",
            "Requirement already satisfied: aiohappyeyeballs>=2.3.0 in /usr/local/lib/python3.10/dist-packages (from aiohttp->datasets) (2.4.3)\n",
            "Requirement already satisfied: aiosignal>=1.1.2 in /usr/local/lib/python3.10/dist-packages (from aiohttp->datasets) (1.3.1)\n",
            "Requirement already satisfied: attrs>=17.3.0 in /usr/local/lib/python3.10/dist-packages (from aiohttp->datasets) (24.2.0)\n",
            "Requirement already satisfied: frozenlist>=1.1.1 in /usr/local/lib/python3.10/dist-packages (from aiohttp->datasets) (1.5.0)\n",
            "Requirement already satisfied: multidict<7.0,>=4.5 in /usr/local/lib/python3.10/dist-packages (from aiohttp->datasets) (6.1.0)\n",
            "Requirement already satisfied: propcache>=0.2.0 in /usr/local/lib/python3.10/dist-packages (from aiohttp->datasets) (0.2.0)\n",
            "Requirement already satisfied: yarl<2.0,>=1.17.0 in /usr/local/lib/python3.10/dist-packages (from aiohttp->datasets) (1.17.2)\n",
            "Requirement already satisfied: async-timeout<6.0,>=4.0 in /usr/local/lib/python3.10/dist-packages (from aiohttp->datasets) (4.0.3)\n",
            "Requirement already satisfied: typing-extensions>=3.7.4.3 in /usr/local/lib/python3.10/dist-packages (from huggingface-hub>=0.23.0->datasets) (4.12.2)\n",
            "Requirement already satisfied: charset-normalizer<4,>=2 in /usr/local/lib/python3.10/dist-packages (from requests>=2.32.2->datasets) (3.4.0)\n",
            "Requirement already satisfied: idna<4,>=2.5 in /usr/local/lib/python3.10/dist-packages (from requests>=2.32.2->datasets) (3.10)\n",
            "Requirement already satisfied: urllib3<3,>=1.21.1 in /usr/local/lib/python3.10/dist-packages (from requests>=2.32.2->datasets) (2.2.3)\n",
            "Requirement already satisfied: certifi>=2017.4.17 in /usr/local/lib/python3.10/dist-packages (from requests>=2.32.2->datasets) (2024.8.30)\n",
            "Requirement already satisfied: python-dateutil>=2.8.2 in /usr/local/lib/python3.10/dist-packages (from pandas->datasets) (2.8.2)\n",
            "Requirement already satisfied: pytz>=2020.1 in /usr/local/lib/python3.10/dist-packages (from pandas->datasets) (2024.2)\n",
            "Requirement already satisfied: tzdata>=2022.7 in /usr/local/lib/python3.10/dist-packages (from pandas->datasets) (2024.2)\n",
            "Requirement already satisfied: six>=1.5 in /usr/local/lib/python3.10/dist-packages (from python-dateutil>=2.8.2->pandas->datasets) (1.16.0)\n",
            "Collecting git+https://github.com/huggingface/transformers\n",
            "  Cloning https://github.com/huggingface/transformers to /tmp/pip-req-build-22dm4u83\n",
            "  Running command git clone --filter=blob:none --quiet https://github.com/huggingface/transformers /tmp/pip-req-build-22dm4u83\n",
            "  Resolved https://github.com/huggingface/transformers to commit 5523e38b553ff6c46b04d2376870fcd842feeecc\n",
            "  Installing build dependencies ... \u001b[?25l\u001b[?25hdone\n",
            "  Getting requirements to build wheel ... \u001b[?25l\u001b[?25hdone\n",
            "  Preparing metadata (pyproject.toml) ... \u001b[?25l\u001b[?25hdone\n",
            "Requirement already satisfied: filelock in /usr/local/lib/python3.10/dist-packages (from transformers==4.47.0.dev0) (3.16.1)\n",
            "Requirement already satisfied: huggingface-hub<1.0,>=0.24.0 in /usr/local/lib/python3.10/dist-packages (from transformers==4.47.0.dev0) (0.26.2)\n",
            "Requirement already satisfied: numpy>=1.17 in /usr/local/lib/python3.10/dist-packages (from transformers==4.47.0.dev0) (1.26.4)\n",
            "Requirement already satisfied: packaging>=20.0 in /usr/local/lib/python3.10/dist-packages (from transformers==4.47.0.dev0) (24.2)\n",
            "Requirement already satisfied: pyyaml>=5.1 in /usr/local/lib/python3.10/dist-packages (from transformers==4.47.0.dev0) (6.0.2)\n",
            "Requirement already satisfied: regex!=2019.12.17 in /usr/local/lib/python3.10/dist-packages (from transformers==4.47.0.dev0) (2024.9.11)\n",
            "Requirement already satisfied: requests in /usr/local/lib/python3.10/dist-packages (from transformers==4.47.0.dev0) (2.32.3)\n",
            "Requirement already satisfied: tokenizers<0.21,>=0.20 in /usr/local/lib/python3.10/dist-packages (from transformers==4.47.0.dev0) (0.20.3)\n",
            "Requirement already satisfied: safetensors>=0.4.1 in /usr/local/lib/python3.10/dist-packages (from transformers==4.47.0.dev0) (0.4.5)\n",
            "Requirement already satisfied: tqdm>=4.27 in /usr/local/lib/python3.10/dist-packages (from transformers==4.47.0.dev0) (4.66.6)\n",
            "Requirement already satisfied: fsspec>=2023.5.0 in /usr/local/lib/python3.10/dist-packages (from huggingface-hub<1.0,>=0.24.0->transformers==4.47.0.dev0) (2024.9.0)\n",
            "Requirement already satisfied: typing-extensions>=3.7.4.3 in /usr/local/lib/python3.10/dist-packages (from huggingface-hub<1.0,>=0.24.0->transformers==4.47.0.dev0) (4.12.2)\n",
            "Requirement already satisfied: charset-normalizer<4,>=2 in /usr/local/lib/python3.10/dist-packages (from requests->transformers==4.47.0.dev0) (3.4.0)\n",
            "Requirement already satisfied: idna<4,>=2.5 in /usr/local/lib/python3.10/dist-packages (from requests->transformers==4.47.0.dev0) (3.10)\n",
            "Requirement already satisfied: urllib3<3,>=1.21.1 in /usr/local/lib/python3.10/dist-packages (from requests->transformers==4.47.0.dev0) (2.2.3)\n",
            "Requirement already satisfied: certifi>=2017.4.17 in /usr/local/lib/python3.10/dist-packages (from requests->transformers==4.47.0.dev0) (2024.8.30)\n"
          ]
        }
      ]
    },
    {
      "cell_type": "code",
      "source": [
        "from transformers import AutoTokenizer\n",
        "from transformers.agents import Tool\n",
        "\n",
        "from langchain_community.docstore.document import Document\n",
        "from langchain.text_splitter import RecursiveCharacterTextSplitter\n",
        "from langchain_community.vectorstores import FAISS\n",
        "from langchain_community.embeddings import HuggingFaceEmbeddings\n",
        "from transformers.agents import HfApiEngine, Agent, ReactJsonAgent\n",
        "\n",
        "import logging\n",
        "import datasets\n",
        "import pandas as pd\n",
        "import numpy as np\n",
        "\n",
        "from datasets import load_dataset\n",
        "from tqdm import tqdm  # Barres de chargement"
      ],
      "metadata": {
        "id": "HJBx5SoCk1ek",
        "colab": {
          "base_uri": "https://localhost:8080/"
        },
        "outputId": "3f3d201b-6fd5-414e-c426-48122bd8a109"
      },
      "execution_count": null,
      "outputs": [
        {
          "output_type": "stream",
          "name": "stderr",
          "text": [
            "/usr/local/lib/python3.10/dist-packages/huggingface_hub/utils/_auth.py:94: UserWarning: \n",
            "The secret `HF_TOKEN` does not exist in your Colab secrets.\n",
            "To authenticate with the Hugging Face Hub, create a token in your settings tab (https://huggingface.co/settings/tokens), set it as secret in your Google Colab and restart your session.\n",
            "You will be able to reuse this secret in all of your notebooks.\n",
            "Please note that authentication is recommended but still optional to access public models or datasets.\n",
            "  warnings.warn(\n"
          ]
        }
      ]
    },
    {
      "cell_type": "markdown",
      "source": [
        "## Collection de documents\n",
        "\n",
        "La première étape consiste à créer une collection de documents qui servira de base de données externe à notre modèle. Pour cela, nous utiliserons le jeu de données [Cities_Wikipedia_Information](https://huggingface.co/datasets/Sketched33/Cities_Wikipedia_Information/), qui contient sous forme de texte le contenu des articles Wikipédia à propos des plus grandes villes du monde.\n",
        "\n",
        "Commençons par observer ce jeu de données :"
      ],
      "metadata": {
        "id": "27OYKBbDSHWD"
      }
    },
    {
      "cell_type": "code",
      "source": [
        "ds = load_dataset(\"Sketched33/Cities_Wikipedia_Information\", split=\"train\")\n",
        "df = pd.DataFrame(ds)\n",
        "df"
      ],
      "metadata": {
        "id": "wFJUUJMeSFVQ",
        "colab": {
          "base_uri": "https://localhost:8080/",
          "height": 424
        },
        "outputId": "cc3c6b1e-ac73-44ba-ad70-387216ad6a28"
      },
      "execution_count": null,
      "outputs": [
        {
          "output_type": "execute_result",
          "data": {
            "text/plain": [
              "        city_name                                  wikipedia_content  \\\n",
              "0           Tokyo  Tokyo (; Japanese: 東京, Tōkyō, [toːkʲoː] ), off...   \n",
              "1         Jakarta  Jakarta (; Indonesian pronunciation: [dʒaˈkart...   \n",
              "2           Delhi  Delhi, officially the National Capital Territo...   \n",
              "3       Guangzhou  Guangzhou is the capital and largest city of G...   \n",
              "4          Mumbai  Mumbai ( , Marathi: [ˈmumbəi], IAST: Muṃbaī; f...   \n",
              "...           ...                                                ...   \n",
              "7814    Godinlabe  Godinlabe (Somali: Godinlaba, is a town in Gal...   \n",
              "7815      Sechura  Sechura is a town in northwestern Peru, 50 km ...   \n",
              "7816      Al Wajh  Al Wajh (Arabic: الوجه), also written Al Wejh,...   \n",
              "7817    Abu Hamad  Abu Hamad (Arabic: أبو حمد, Sudanese Arabic [a...   \n",
              "7818  Ciudad Arce  Ciudad Arce is a municipality in the La Libert...   \n",
              "\n",
              "      latitude  longitude  \n",
              "0      35.6897   139.6922  \n",
              "1      -6.1750   106.8275  \n",
              "2      28.6100    77.2300  \n",
              "3      23.1300   113.2600  \n",
              "4      19.0761    72.8775  \n",
              "...        ...        ...  \n",
              "7814    5.8794    46.6308  \n",
              "7815   -5.5576   -80.8223  \n",
              "7816   26.2833    36.4167  \n",
              "7817   19.5433    33.3378  \n",
              "7818   13.8333   -89.4333  \n",
              "\n",
              "[7819 rows x 4 columns]"
            ],
            "text/html": [
              "\n",
              "  <div id=\"df-f40a4ee2-7b2a-4772-a319-1a025472ec27\" class=\"colab-df-container\">\n",
              "    <div>\n",
              "<style scoped>\n",
              "    .dataframe tbody tr th:only-of-type {\n",
              "        vertical-align: middle;\n",
              "    }\n",
              "\n",
              "    .dataframe tbody tr th {\n",
              "        vertical-align: top;\n",
              "    }\n",
              "\n",
              "    .dataframe thead th {\n",
              "        text-align: right;\n",
              "    }\n",
              "</style>\n",
              "<table border=\"1\" class=\"dataframe\">\n",
              "  <thead>\n",
              "    <tr style=\"text-align: right;\">\n",
              "      <th></th>\n",
              "      <th>city_name</th>\n",
              "      <th>wikipedia_content</th>\n",
              "      <th>latitude</th>\n",
              "      <th>longitude</th>\n",
              "    </tr>\n",
              "  </thead>\n",
              "  <tbody>\n",
              "    <tr>\n",
              "      <th>0</th>\n",
              "      <td>Tokyo</td>\n",
              "      <td>Tokyo (; Japanese: 東京, Tōkyō, [toːkʲoː] ), off...</td>\n",
              "      <td>35.6897</td>\n",
              "      <td>139.6922</td>\n",
              "    </tr>\n",
              "    <tr>\n",
              "      <th>1</th>\n",
              "      <td>Jakarta</td>\n",
              "      <td>Jakarta (; Indonesian pronunciation: [dʒaˈkart...</td>\n",
              "      <td>-6.1750</td>\n",
              "      <td>106.8275</td>\n",
              "    </tr>\n",
              "    <tr>\n",
              "      <th>2</th>\n",
              "      <td>Delhi</td>\n",
              "      <td>Delhi, officially the National Capital Territo...</td>\n",
              "      <td>28.6100</td>\n",
              "      <td>77.2300</td>\n",
              "    </tr>\n",
              "    <tr>\n",
              "      <th>3</th>\n",
              "      <td>Guangzhou</td>\n",
              "      <td>Guangzhou is the capital and largest city of G...</td>\n",
              "      <td>23.1300</td>\n",
              "      <td>113.2600</td>\n",
              "    </tr>\n",
              "    <tr>\n",
              "      <th>4</th>\n",
              "      <td>Mumbai</td>\n",
              "      <td>Mumbai ( , Marathi: [ˈmumbəi], IAST: Muṃbaī; f...</td>\n",
              "      <td>19.0761</td>\n",
              "      <td>72.8775</td>\n",
              "    </tr>\n",
              "    <tr>\n",
              "      <th>...</th>\n",
              "      <td>...</td>\n",
              "      <td>...</td>\n",
              "      <td>...</td>\n",
              "      <td>...</td>\n",
              "    </tr>\n",
              "    <tr>\n",
              "      <th>7814</th>\n",
              "      <td>Godinlabe</td>\n",
              "      <td>Godinlabe (Somali: Godinlaba, is a town in Gal...</td>\n",
              "      <td>5.8794</td>\n",
              "      <td>46.6308</td>\n",
              "    </tr>\n",
              "    <tr>\n",
              "      <th>7815</th>\n",
              "      <td>Sechura</td>\n",
              "      <td>Sechura is a town in northwestern Peru, 50 km ...</td>\n",
              "      <td>-5.5576</td>\n",
              "      <td>-80.8223</td>\n",
              "    </tr>\n",
              "    <tr>\n",
              "      <th>7816</th>\n",
              "      <td>Al Wajh</td>\n",
              "      <td>Al Wajh (Arabic: الوجه), also written Al Wejh,...</td>\n",
              "      <td>26.2833</td>\n",
              "      <td>36.4167</td>\n",
              "    </tr>\n",
              "    <tr>\n",
              "      <th>7817</th>\n",
              "      <td>Abu Hamad</td>\n",
              "      <td>Abu Hamad (Arabic: أبو حمد, Sudanese Arabic [a...</td>\n",
              "      <td>19.5433</td>\n",
              "      <td>33.3378</td>\n",
              "    </tr>\n",
              "    <tr>\n",
              "      <th>7818</th>\n",
              "      <td>Ciudad Arce</td>\n",
              "      <td>Ciudad Arce is a municipality in the La Libert...</td>\n",
              "      <td>13.8333</td>\n",
              "      <td>-89.4333</td>\n",
              "    </tr>\n",
              "  </tbody>\n",
              "</table>\n",
              "<p>7819 rows × 4 columns</p>\n",
              "</div>\n",
              "    <div class=\"colab-df-buttons\">\n",
              "\n",
              "  <div class=\"colab-df-container\">\n",
              "    <button class=\"colab-df-convert\" onclick=\"convertToInteractive('df-f40a4ee2-7b2a-4772-a319-1a025472ec27')\"\n",
              "            title=\"Convert this dataframe to an interactive table.\"\n",
              "            style=\"display:none;\">\n",
              "\n",
              "  <svg xmlns=\"http://www.w3.org/2000/svg\" height=\"24px\" viewBox=\"0 -960 960 960\">\n",
              "    <path d=\"M120-120v-720h720v720H120Zm60-500h600v-160H180v160Zm220 220h160v-160H400v160Zm0 220h160v-160H400v160ZM180-400h160v-160H180v160Zm440 0h160v-160H620v160ZM180-180h160v-160H180v160Zm440 0h160v-160H620v160Z\"/>\n",
              "  </svg>\n",
              "    </button>\n",
              "\n",
              "  <style>\n",
              "    .colab-df-container {\n",
              "      display:flex;\n",
              "      gap: 12px;\n",
              "    }\n",
              "\n",
              "    .colab-df-convert {\n",
              "      background-color: #E8F0FE;\n",
              "      border: none;\n",
              "      border-radius: 50%;\n",
              "      cursor: pointer;\n",
              "      display: none;\n",
              "      fill: #1967D2;\n",
              "      height: 32px;\n",
              "      padding: 0 0 0 0;\n",
              "      width: 32px;\n",
              "    }\n",
              "\n",
              "    .colab-df-convert:hover {\n",
              "      background-color: #E2EBFA;\n",
              "      box-shadow: 0px 1px 2px rgba(60, 64, 67, 0.3), 0px 1px 3px 1px rgba(60, 64, 67, 0.15);\n",
              "      fill: #174EA6;\n",
              "    }\n",
              "\n",
              "    .colab-df-buttons div {\n",
              "      margin-bottom: 4px;\n",
              "    }\n",
              "\n",
              "    [theme=dark] .colab-df-convert {\n",
              "      background-color: #3B4455;\n",
              "      fill: #D2E3FC;\n",
              "    }\n",
              "\n",
              "    [theme=dark] .colab-df-convert:hover {\n",
              "      background-color: #434B5C;\n",
              "      box-shadow: 0px 1px 3px 1px rgba(0, 0, 0, 0.15);\n",
              "      filter: drop-shadow(0px 1px 2px rgba(0, 0, 0, 0.3));\n",
              "      fill: #FFFFFF;\n",
              "    }\n",
              "  </style>\n",
              "\n",
              "    <script>\n",
              "      const buttonEl =\n",
              "        document.querySelector('#df-f40a4ee2-7b2a-4772-a319-1a025472ec27 button.colab-df-convert');\n",
              "      buttonEl.style.display =\n",
              "        google.colab.kernel.accessAllowed ? 'block' : 'none';\n",
              "\n",
              "      async function convertToInteractive(key) {\n",
              "        const element = document.querySelector('#df-f40a4ee2-7b2a-4772-a319-1a025472ec27');\n",
              "        const dataTable =\n",
              "          await google.colab.kernel.invokeFunction('convertToInteractive',\n",
              "                                                    [key], {});\n",
              "        if (!dataTable) return;\n",
              "\n",
              "        const docLinkHtml = 'Like what you see? Visit the ' +\n",
              "          '<a target=\"_blank\" href=https://colab.research.google.com/notebooks/data_table.ipynb>data table notebook</a>'\n",
              "          + ' to learn more about interactive tables.';\n",
              "        element.innerHTML = '';\n",
              "        dataTable['output_type'] = 'display_data';\n",
              "        await google.colab.output.renderOutput(dataTable, element);\n",
              "        const docLink = document.createElement('div');\n",
              "        docLink.innerHTML = docLinkHtml;\n",
              "        element.appendChild(docLink);\n",
              "      }\n",
              "    </script>\n",
              "  </div>\n",
              "\n",
              "\n",
              "<div id=\"df-2ef48921-49af-47fb-b7f2-6899e2be872a\">\n",
              "  <button class=\"colab-df-quickchart\" onclick=\"quickchart('df-2ef48921-49af-47fb-b7f2-6899e2be872a')\"\n",
              "            title=\"Suggest charts\"\n",
              "            style=\"display:none;\">\n",
              "\n",
              "<svg xmlns=\"http://www.w3.org/2000/svg\" height=\"24px\"viewBox=\"0 0 24 24\"\n",
              "     width=\"24px\">\n",
              "    <g>\n",
              "        <path d=\"M19 3H5c-1.1 0-2 .9-2 2v14c0 1.1.9 2 2 2h14c1.1 0 2-.9 2-2V5c0-1.1-.9-2-2-2zM9 17H7v-7h2v7zm4 0h-2V7h2v10zm4 0h-2v-4h2v4z\"/>\n",
              "    </g>\n",
              "</svg>\n",
              "  </button>\n",
              "\n",
              "<style>\n",
              "  .colab-df-quickchart {\n",
              "      --bg-color: #E8F0FE;\n",
              "      --fill-color: #1967D2;\n",
              "      --hover-bg-color: #E2EBFA;\n",
              "      --hover-fill-color: #174EA6;\n",
              "      --disabled-fill-color: #AAA;\n",
              "      --disabled-bg-color: #DDD;\n",
              "  }\n",
              "\n",
              "  [theme=dark] .colab-df-quickchart {\n",
              "      --bg-color: #3B4455;\n",
              "      --fill-color: #D2E3FC;\n",
              "      --hover-bg-color: #434B5C;\n",
              "      --hover-fill-color: #FFFFFF;\n",
              "      --disabled-bg-color: #3B4455;\n",
              "      --disabled-fill-color: #666;\n",
              "  }\n",
              "\n",
              "  .colab-df-quickchart {\n",
              "    background-color: var(--bg-color);\n",
              "    border: none;\n",
              "    border-radius: 50%;\n",
              "    cursor: pointer;\n",
              "    display: none;\n",
              "    fill: var(--fill-color);\n",
              "    height: 32px;\n",
              "    padding: 0;\n",
              "    width: 32px;\n",
              "  }\n",
              "\n",
              "  .colab-df-quickchart:hover {\n",
              "    background-color: var(--hover-bg-color);\n",
              "    box-shadow: 0 1px 2px rgba(60, 64, 67, 0.3), 0 1px 3px 1px rgba(60, 64, 67, 0.15);\n",
              "    fill: var(--button-hover-fill-color);\n",
              "  }\n",
              "\n",
              "  .colab-df-quickchart-complete:disabled,\n",
              "  .colab-df-quickchart-complete:disabled:hover {\n",
              "    background-color: var(--disabled-bg-color);\n",
              "    fill: var(--disabled-fill-color);\n",
              "    box-shadow: none;\n",
              "  }\n",
              "\n",
              "  .colab-df-spinner {\n",
              "    border: 2px solid var(--fill-color);\n",
              "    border-color: transparent;\n",
              "    border-bottom-color: var(--fill-color);\n",
              "    animation:\n",
              "      spin 1s steps(1) infinite;\n",
              "  }\n",
              "\n",
              "  @keyframes spin {\n",
              "    0% {\n",
              "      border-color: transparent;\n",
              "      border-bottom-color: var(--fill-color);\n",
              "      border-left-color: var(--fill-color);\n",
              "    }\n",
              "    20% {\n",
              "      border-color: transparent;\n",
              "      border-left-color: var(--fill-color);\n",
              "      border-top-color: var(--fill-color);\n",
              "    }\n",
              "    30% {\n",
              "      border-color: transparent;\n",
              "      border-left-color: var(--fill-color);\n",
              "      border-top-color: var(--fill-color);\n",
              "      border-right-color: var(--fill-color);\n",
              "    }\n",
              "    40% {\n",
              "      border-color: transparent;\n",
              "      border-right-color: var(--fill-color);\n",
              "      border-top-color: var(--fill-color);\n",
              "    }\n",
              "    60% {\n",
              "      border-color: transparent;\n",
              "      border-right-color: var(--fill-color);\n",
              "    }\n",
              "    80% {\n",
              "      border-color: transparent;\n",
              "      border-right-color: var(--fill-color);\n",
              "      border-bottom-color: var(--fill-color);\n",
              "    }\n",
              "    90% {\n",
              "      border-color: transparent;\n",
              "      border-bottom-color: var(--fill-color);\n",
              "    }\n",
              "  }\n",
              "</style>\n",
              "\n",
              "  <script>\n",
              "    async function quickchart(key) {\n",
              "      const quickchartButtonEl =\n",
              "        document.querySelector('#' + key + ' button');\n",
              "      quickchartButtonEl.disabled = true;  // To prevent multiple clicks.\n",
              "      quickchartButtonEl.classList.add('colab-df-spinner');\n",
              "      try {\n",
              "        const charts = await google.colab.kernel.invokeFunction(\n",
              "            'suggestCharts', [key], {});\n",
              "      } catch (error) {\n",
              "        console.error('Error during call to suggestCharts:', error);\n",
              "      }\n",
              "      quickchartButtonEl.classList.remove('colab-df-spinner');\n",
              "      quickchartButtonEl.classList.add('colab-df-quickchart-complete');\n",
              "    }\n",
              "    (() => {\n",
              "      let quickchartButtonEl =\n",
              "        document.querySelector('#df-2ef48921-49af-47fb-b7f2-6899e2be872a button');\n",
              "      quickchartButtonEl.style.display =\n",
              "        google.colab.kernel.accessAllowed ? 'block' : 'none';\n",
              "    })();\n",
              "  </script>\n",
              "</div>\n",
              "\n",
              "  <div id=\"id_0a8e7f11-4e5a-4542-91d5-88fbcbc5c12f\">\n",
              "    <style>\n",
              "      .colab-df-generate {\n",
              "        background-color: #E8F0FE;\n",
              "        border: none;\n",
              "        border-radius: 50%;\n",
              "        cursor: pointer;\n",
              "        display: none;\n",
              "        fill: #1967D2;\n",
              "        height: 32px;\n",
              "        padding: 0 0 0 0;\n",
              "        width: 32px;\n",
              "      }\n",
              "\n",
              "      .colab-df-generate:hover {\n",
              "        background-color: #E2EBFA;\n",
              "        box-shadow: 0px 1px 2px rgba(60, 64, 67, 0.3), 0px 1px 3px 1px rgba(60, 64, 67, 0.15);\n",
              "        fill: #174EA6;\n",
              "      }\n",
              "\n",
              "      [theme=dark] .colab-df-generate {\n",
              "        background-color: #3B4455;\n",
              "        fill: #D2E3FC;\n",
              "      }\n",
              "\n",
              "      [theme=dark] .colab-df-generate:hover {\n",
              "        background-color: #434B5C;\n",
              "        box-shadow: 0px 1px 3px 1px rgba(0, 0, 0, 0.15);\n",
              "        filter: drop-shadow(0px 1px 2px rgba(0, 0, 0, 0.3));\n",
              "        fill: #FFFFFF;\n",
              "      }\n",
              "    </style>\n",
              "    <button class=\"colab-df-generate\" onclick=\"generateWithVariable('df')\"\n",
              "            title=\"Generate code using this dataframe.\"\n",
              "            style=\"display:none;\">\n",
              "\n",
              "  <svg xmlns=\"http://www.w3.org/2000/svg\" height=\"24px\"viewBox=\"0 0 24 24\"\n",
              "       width=\"24px\">\n",
              "    <path d=\"M7,19H8.4L18.45,9,17,7.55,7,17.6ZM5,21V16.75L18.45,3.32a2,2,0,0,1,2.83,0l1.4,1.43a1.91,1.91,0,0,1,.58,1.4,1.91,1.91,0,0,1-.58,1.4L9.25,21ZM18.45,9,17,7.55Zm-12,3A5.31,5.31,0,0,0,4.9,8.1,5.31,5.31,0,0,0,1,6.5,5.31,5.31,0,0,0,4.9,4.9,5.31,5.31,0,0,0,6.5,1,5.31,5.31,0,0,0,8.1,4.9,5.31,5.31,0,0,0,12,6.5,5.46,5.46,0,0,0,6.5,12Z\"/>\n",
              "  </svg>\n",
              "    </button>\n",
              "    <script>\n",
              "      (() => {\n",
              "      const buttonEl =\n",
              "        document.querySelector('#id_0a8e7f11-4e5a-4542-91d5-88fbcbc5c12f button.colab-df-generate');\n",
              "      buttonEl.style.display =\n",
              "        google.colab.kernel.accessAllowed ? 'block' : 'none';\n",
              "\n",
              "      buttonEl.onclick = () => {\n",
              "        google.colab.notebook.generateWithVariable('df');\n",
              "      }\n",
              "      })();\n",
              "    </script>\n",
              "  </div>\n",
              "\n",
              "    </div>\n",
              "  </div>\n"
            ],
            "application/vnd.google.colaboratory.intrinsic+json": {
              "type": "dataframe",
              "variable_name": "df",
              "summary": "{\n  \"name\": \"df\",\n  \"rows\": 7819,\n  \"fields\": [\n    {\n      \"column\": \"city_name\",\n      \"properties\": {\n        \"dtype\": \"string\",\n        \"num_unique_values\": 7649,\n        \"samples\": [\n          \"Vantaa\",\n          \"Chicacole\",\n          \"Kassel\"\n        ],\n        \"semantic_type\": \"\",\n        \"description\": \"\"\n      }\n    },\n    {\n      \"column\": \"wikipedia_content\",\n      \"properties\": {\n        \"dtype\": \"string\",\n        \"num_unique_values\": 7638,\n        \"samples\": [\n          \"Juba () is the capital and largest city of South Sudan. The city is situated on the White Nile and also serves as the capital of the Central Equatoria State. It is the most recently declared national capital and had a population of 525,953 in 2017. It has an area of 52 km2 (20 sq mi), with the metropolitan area covering 336 km2 (130 sq mi).\\nJuba was established in 1920\\u201321 by the Church Missionary Society (CMS) in a small Bari village, also called Juba. The city was made as the capital of Mongalla Province in the late 1920s. The growth of the town accelerated following the signing of the Comprehensive Peace Agreement in 2005, which made Juba the capital of the Autonomous Government of Southern Sudan. Juba became the capital of South Sudan in 2011 after its independence, but influential parties wanted Ramciel to be the capital. The government announced the move of the capital to Ramciel, but it is yet to occur.\\n\\n\\n== History ==\\nUnder the Khedivate of Egypt, Juba served as the southernmost garrison of the Egyptian army, quartering only a handful of soldiers. Disease was common; soldiers often fell ill due to the malaria, meningitis and blackwater fever that was prevalent in the region. Explorers and campaigners Samuel Baker and Florence Baker used the nearby island of Gondokoro as a base during their expeditions to what is now South Sudan and northern Uganda from 1863 to 1865 and 1871 to 1873.The present city of Juba was established on the site of a small Bari village,  also called Juba, where the Church Missionary Society (CMS) had established a mission and the Nugent Memorial Intermediate School in 1920\\u201321. In the late 1920s, Anglo-Egyptian officials ordered Bari residents to relocate so that a new town could be constructed to serve as the capital of Mongalla Province. The site was chosen by Anglo-Egyptian officials partly because of the presence of the CMS Nugent Memorial Intermediate School there, and partly because its proximity to river transportation on the Nile. Major construction of the new city of Juba was underway by 1927. Traders from Rejaf relocated to the new city in 1929, and the Governor's office of Mongalla was moved there in 1930.Greek merchants supplying the British Army played an early and central role in the establishment of Juba in the early 1920s. Their number never exceeded 2,000, but because of their excellent relationship with the native Bari people and the large amount of resulting assistance they received, they built many structures in the downtown Juba Market area as well as in the area that the contemporary British soldiers called the Greek Quarter, which is today the small suburb of Hai Jalaba. Many of these structures are still standing today. Public buildings such as the Ivory Bank, Notos Lounge, the old Sudan Airways Building, Paradise Hotel, and the Nile Commercial Bank and Buffalo Commercial Bank were all built by Greeks. Greek merchants were responsible for the construction of the Central Bank building in the mid-1940s, as well as the Juba Hotel in the mid-1930s.From the establishment of Anglo-Egyptian Sudan in 1899 the British administerd southern Sudan separately from the north. In 1946, without consulting Southern opinion, the British administration began instead to implement a policy of uniting the north and the south. To facilitate the new policy, the Juba Conference was convened as a gesture to southerners, the hidden aim being the appeasement of northern Sudanese nationalists and the Egyptian government.Until 1956, Juba was in Anglo-Egyptian Sudan, which was jointly administered by the United Kingdom and the Kingdom of Egypt. In 1955, a mutiny of southern soldiers in Torit sparked the First Sudanese Civil War, which did not end until 1972. During the Second Sudanese Civil War, Juba was a strategic location that was the focus of much fighting.In 2005, Juba became the interim seat and the capital of the Autonomous Government of Southern Sudan after the signing of the Comprehensive Peace Agreement (before the agreement, Rumbek had been the proposed interim capital). With the advent of peace, the United Nations increased its presence in Juba, shifting its management of operations in Southern Sudan from its previous location in Kenya. Under the leadership of the United Nations Office for the Coordination of Humanitarian Affairs, the United Nations established a camp known as \\\"OCHA Camp\\\", which served as a base for many United Nations agencies and non-governmental organizations.Juba became the world's newest national capital on 9 July 2011, when South Sudan formally declared its independence from the Republic of the Sudan. However, influential parties including the South Sudanese government expressed dissatisfaction with the city's suitability as a national capital, and the government proposed that a new planned city be built as a replacement capital elsewhere, most likely Ramciel in Lakes.On 5 September 2011, the government announced the capital of South Sudan would move some 250 km away from Juba to Ramciel, which is located in the middle of South Sudan, about 60 km East of Yirol West County, Lakes State. As of June 2020, the move has yet to occur.\\nIn September 2015, nearly 200 people were killed in a tanker explosion in Juba.Since the beginning of the 2023 Sudan Conflict, approximately 6,000 refugees have arrived in the city. Many settled in Gorom, an area near the city, and have struggled from lack of humanitarian aid.\\n\\n\\n== Government ==\\nJuba is led by a city council, formed in March 2011. The council was established by Governor Clement Wani Konga who appointed Mohammed El Haj Baballa mayor of the council and former Yei County Commissioner David Lokonga Moses was appointed as deputy mayor. A ministerial committee to keep Juba clean and sanitary was also created by gubernatorial decree at the same time.In Michael Lado Allah-Jabu was appointed mayor of the city council following the removal of Kalisto Lado by Governor of Central Equatoria Emmanuel Adil Anthony. Allah-Jabu was himself removed by Adil Anthony on 27 June 2023. Following his removal, Emmanuel Khamis was appointed caretaker mayor.Prior to March 2011, the area now administered by Juba City Council was divided into Juba, Kator, and Muniki payams. It is now a standalone subdivision of Juba County, of which it is the county seat.\\n\\n\\n== Transportation ==\\nThe city is a river port and the southern terminus of traffic along the Nile (specifically along the Bahr-al-Ghazal portion of the White Nile). Before the civil war, Juba was also a transport hub, with highways connecting it to Kenya, Uganda and the Democratic Republic of the Congo. \\nSince the end of the war Juba has been unable to recover to its pre-war state and is no longer a significant trade city. Roads and the river harbour are no longer in use due to being in disrepair. The United Nations and the South Sudanese government are working on repairing the roads, but a full repair is expected to take many years. In 2003, the Swiss Foundation for Mine Action (FSD) started to clear the roads leading from Juba to Uganda and Kenya. It was expected that these roads would be completely de-mined and rebuilt in the course of 2006\\u20132008. The rebuilding of the roads, which are mostly unpaved, takes a tremendous amount of effort and time because of the limited work season due to the lengthy rainy season, which lasts from March until October. The roads are important for the peace process in Sudan as people need them to return to their homes and to regain what they feel is a normal life. The first road that has started to be rebuilt is the road to Uganda. This road is particularly important, as many of the original inhabitants of Juba fled to Uganda during the war. As of 2009, there are three paved roads in Juba, one that was re-surfaced in July. The main one is a concrete road, built by the British in the 1950s.Between 2008 and 2011, the Ugandan government and the South Sudanese government undertook joint efforts to develop a railway link between the Northern Ugandan city of Gulu and Juba, with an extension to Wau. A memorandum of understanding between the two governments was signed to that effect in August 2008. The same memorandum outlined plans to develop the road network between the two countries. Recent media reports from the region suggest that the railway link from Juba may link directly with Kenya, bypassing Uganda.Juba International Airport (IATA: JUB, ICAO: HJJJ) is the site of large numbers of flights bringing UN and non-governmental organization (NGO) aid into South Sudan, as well as passengers and general air freight. The construction of a new terminal was begun in late 2007 when the oil prices were very high ($100+). Since then \\u2013 with the oil prices going back down \\u2013 the fate of the new terminal is uncertain. Building on the new terminal restarted in early 2014. As of February 2014, there are daily flights to Jomo Kenyatta International Airport in Nairobi, Kenya; Khartoum International Airport in Sudan; Entebbe International Airport in Entebbe, Uganda; and Bole International Airport in Addis Ababa, Ethiopia. The United Nations Mission in South Sudan (UNMISS) has a large compound near the Juba Airport.\\n\\n\\n== Demography ==\\nIn 2005, Juba's population was 163,442. Based on analysis of aerial photos, the best estimate of several donors working in Juba calculated the 2006 population at approximately 250,000. The 5th Sudan Population and Housing Census took place in April/May 2008, stating the population of Juba County to be 372,413 (the majority residing in Juba City, which dominates the county), but the results were rejected by the Autonomous Government of Southern Sudan. Juba is developing very rapidly due to oil money and the Chinese coming for work and development. In 2011, the population of the city of Juba is estimated at 372,410, but may potentially be more. As of 2013, the city's population was growing at a rate of 4.23%. The Juba City Council's CEO, Martin Simon Wani, has claimed the population exceeds one million with up to a million more living in surrounding suburbs. Suburbs adjacent to Juba have become increasingly dense as people from the countryside move into the city for economic opportunities.\\n\\n\\n== Economy ==\\nJuba has been described as undergoing an economic boom, especially in the past five years and since independence. The prospect of an economic boom has brought thousands of merchants to Juba, mostly from northern Sudan and from East Africa. As of October 2010, several regional and international businesses have established a presence in Juba. The Commercial Bank of Ethiopia and the Kenyan banking conglomerate Kenya Commercial Bank has its South Sudanese headquarters in the city and a branch network of eleven branches throughout South Sudan. The three indigenous South Sudanese commercial banks namely; Buffalo Commercial Bank, Ivory Bank and Nile Commercial Bank, all maintain their headquarters in Juba. Equity Bank, another regional finance services provider also has a branch in Juba. National Insurance Corporation (NIC), the leading Ugandan insurance services provider, maintains an office in the city. Despite recent economic difficulties brought about by the 15 December 2013 civil war, Juba has continued to grow and construction is still booming. This is probably due to the high demand for affordable housing and hotel accommodations. Research from the Overseas Development Institute found that markets in Juba are transient, as many traders only come to make a quick profit and so do not invest in storage facilities or shops.\\n\\n\\n== Roads In Juba ==\\nJuba has major roads that go to major towns in South Sudan, such roads include the Juba-Nimule road and the Aggrey Jaden Road.\\n\\n\\n== Education ==\\nThe University of Juba was founded in 1975.\\nUpper Nile University in Juba\\nThe Juba Public Peace Library was founded on 1 October 2019. The library was donated by The South Sudan Library Foundation and contains over 13,000 books. It is the first public library of South Sudan. The South Sudan Library Foundation was co-founded by Yawusa Kintha and Kevin Lenahan.\\nKampala International University\\nCatholic University of South Sudan\\nEpiscopal University of South Sudan\\nStarford International University\\nAyii University\\n\\n\\n== Health services ==\\nJuba Teaching Hospital\\nJuba Military Referral Hospital\\nAl Sabah Children's Hospital\\nNyakurun PHCC\\nMunuki PHCC\\nGurei PHCC\\n\\n\\n== Places of worship ==\\nAmong the places of worship, they are predominantly Christian churches and temples: Roman Catholic Archdiocese of Juba (Catholic Church), Province of the Episcopal Church of South Sudan (Anglican Communion), Baptist Convention of South Sudan (Baptist World Alliance), Presbyterian Church in Sudan (World Communion of Reformed Churches).\\n\\n\\n== Climate ==\\nJuba has a tropical wet and dry climate (K\\u00f6ppen: Aw), and as it lies near the equator, temperatures are hot year-round. However, little rain falls from November to March, which is also the time of the year with the hottest maximum temperatures, reaching 38 \\u00b0C (100 \\u00b0F) in February. From April to October, more than 100 millimetres (3.9 in) of rain falls per month. The annual total precipitation is nearly 1,000 mm (39 in).\\n\\n\\n== Notable people ==\\nAheu Deng, beauty queen and fashion model\\nBangs, rapper and YouTube personality\\nMangok Mathiang (born 1992), Australian-Sudanese basketball player for Hapoel Eilat of the Israeli Basketball Premier League\\nIndependent Moses Nunuh, first child born in South Sudan after its independence. Like many other children in South Sudan, he died before his first birthday.\\n\\n\\n== See also ==\\n\\n\\n== References ==\\n\\n\\n== External links ==\\n\\nFisher, J. 2005, 'Southern Sudan's Front-line Town', BBC News, 20 April 2005.\\nHolt, K. 2007, 'In pictures: Juba's Street Struggle', BBC News, 4 January 2007.\\nSudan And Uganda Sign MoU To Develop Infrastructure Archived 2 October 2011 at the Wayback Machine\\n'Gulu-Juba rail link underway'\\nWorld's Newest Nation would Start Almost from Scratch \\u2013 article & video by McClatchy\",\n          \"Gjakova is the seventh largest city of Kosovo and seat of Gjakova Municipality and Gjakova District. The city has 40,827 inhabitants, while the municipality has 94,556 inhabitants.Geographically, it is located in the south-western part of Kosovo, about halfway between the cities of Peja and Prizren. It is approximately 100 km (62 mi) inland from the Adriatic Sea. \\nThe city is situated some 208 kilometres (129 mi) north-east of Tirana,  145 kilometres (90 mi) north-west of Skopje, 80 kilometres (50 mi) west of the capital Pristina,  435 kilometres (270 mi) south of Belgrade and 263 kilometres (163 mi) east of Podgorica.\\nThe city of Gjakova has been populated since the prehistoric era. During the Ottoman period, Gjakova served as a trading centre on the route between Shkodra and Constantinople. It was also one of the most developed trade centres at that time in the Balkans.\\n\\n\\n== Name ==\\nThe Albanian name for the city is Gjakova, while the Serbian name is \\u0110akovica with the common -ica diminutive placename suffix. There are several theories on the origin of the village name, such as from the personal name Jakov, a variant of Jacob; the Serbian word \\u0111ak (pupil); or from the Albanian word for \\\"blood\\\" (gjak).The \\\"Jakov theory\\\" derives its name from Jakov, a little known nobleman in the service of lord Vuk Brankovi\\u0107 who founded and ruled the city, and whose coins have been found, signed \\\"Jakov\\\". According to local Albanians, the name was derived from the name Jak (Jakov), with the village name meaning \\\"Jakov's field\\\".\\n\\n\\n== History ==\\n\\n\\n=== Ottoman Period ===\\nGjakova was mentioned as a village with a market in the 1485 Ottoman defter, and had 54 households. The local Albanians developed it into a town in the 16th century. It has been a settlement with an ethnic Albanian majority since its foundation, having grown around the founding structures built by Hadim Suleyman Efendi, a politically important local Albanian. Edith Durham noted that Gjakova was founded by members of the Albanian M\\u00ebrturi tribe in the 15th-16th centuries, specifically by the families of two men descended from Bitush M\\u00ebrturi - Vula and M\\u00ebrtur. The descendants of the Vula family were still present during the time of her visit to Albania in the first decade of the 20th century.In the Ottoman defter (tax registry) of 1485, Gjakova was a village with 67 households. In the 17th century, Katip \\u00c7elebi and Evliya \\u00c7elebi mention this place as Jakovi\\u010dse, with 2000 houses and 300 shops. During the early period of Ottoman rule, Gjakova and the Gjakova Municipality were part of the Nahiya of Altun-ili. Most of the villages in the Nahiya of Altun-ili were dominated by inhabitants with Albanian anthroponomy. This is seen by Selami Pulaha as an indication that during the 15th century (as supported by Ottoman defters), the lands between Junik and Gjakova were inhabited by a dominant ethnic Albanian majority. In the 1571 and 1591 Ottoman defters, the majority of the inhabitants of Gjakova as a settlement itself were recorded with Albanian anthroponomy; Albanian onomastics prevailed over Slavic onomastics.In the year 1638, the Archbishop of Bar, Gjergj Bardhi, reported that Gjakova had 320 Muslim homes, 20 Catholic homes and 20 Orthodox homes, and wrote that \\\"the area is inhabited by Albanians and the Albanian language is spoken there\\\".The city had developed into an Ottoman trade center on the Shkodra\\u2013Istanbul route, with the marketplace being by the Hadum Mosque, built in 1594 by Mimar Sinan, financed by Hadum Aga. Evliya \\u00c7elebi mentioned it as a city in 1662, and described it as a flourishing and attractive town with 2,000 houses built of stone with roofs and gardens. The public buildings were situated on a broad plain and included two richly adorned congregational mosques, several prayer-houses, some inns with leaden roofs, a delightful bath-house (hamam), and about 300 shops like nightingale-nests. Between 3\\u20136 September 1878, heavy fighting took place in Gjakov\\u00eb between the nationalist Albanian League of Prizren and the Ottoman Empire. In the ensuing fight, 280 Ottoman soldiers were killed, including 2 Pashas, and a further 300 were wounded.\\nIn May 1845, following Re\\u015fid Pasha's outlawing of the right to bear arms, 2,000 rebels from the Gjakova region, and the Gjakova Highlander tribes of Krasniqi, Gashi and Byty\\u00e7i rose in revolt. The rebels, about 8,000 men, drove the Ottoman garrison out of Gjakova. The Ottomans suppressed the rebellion, but did not succeed in establishing effective control of the region.In 1862 the Ottomans sent Maxharr Pasha with 12 divisions to implement the Tanzimat Reforms in the Highlands of Gjakova. Under the leadership of Mic Sokoli and Binak Alia, the tribes of Krasniqi, Gashi, Byty\\u00e7i and Nikaj-Mertur organized a resistance near Bujan. The rebels were reinforced by the forces of Shala, led by Mark Lula. After heavy fighting, they managed to defeat the Ottoman force and expel them from the highlands.Local Albanian leaders, such as Sulejman Aga of Botush\\u00eb, organised resistance and movements for independence against the Ottomans throughout the 19th-20th centuries; in one such uprising, 5,000-6,000 Albanian fighters led by Sulejman Aga Batusha, gathered outside of Gjakova and attacked the garrison in an attempt to enter the city. In 1904, 10 Ottoman battalions accompanied by artillery were sent to Gjakova in order to quell the uprising. Shemsi Pasha and the Ottomans were then ordered to estimate the livestock possessions and to enforce heavy taxes upon the local Albanians in response to the uprising, and the hostilities were accompanied by the forcible collection of taxes from the local population and the destruction of entire villages in the Gjakova region by Ottoman forces; Upon arriving to Botusha, Shemsi Pasha, with five battalions and numerous artillery pieces, began bombarding the houses. The Ottomans were met by 300 Albanian resistance fighters led by Sulejman Aga Batusha. The resistance fighters had 35 dead or wounded, but the Ottomans lost more than 80 soldiers. Another 300 Albanian fighters arrived and surrounded the Ottoman force but could not yet finish them as the Ottomans were numerically-superior and were positioned well with cannons. 2,000 Albanian tribesmen would eventually gather to fight the Turks, and the Ottoman government sent 18 more battalions accompanied by artillery to quell this new uprising; Shkup's Vali, Shakir Pasha, also went to Gjakova. A series of ensuing battles followed in the Gjakova region, resulting in the deaths of more than 900 Ottoman soldiers as well as 2 bimbashis and a dozen officers, whereas the Albanians suffered only 170 dead or wounded. Shakir Pasha was thereby ordered to stand down.\\n\\n\\n=== Modern Period ===\\nGjakova suffered greatly from the Serbian and Montenegrin armies during the First Balkan War. The New York Times reported in 1912, citing Austro-Hungarian sources, that people on the gallows hanged on both sides of the road, and that the way to Gjakova became a \\\"gallows alley.\\\" In the region of Gjakova, the Montenegrin military police formed the Royal Gendarmerie Corps (Kraljevski \\u017eandarmerijski kor), known as krila\\u0161i, which committed much abuse and violence against the non-Orthodox Christian population. The mass hanging of Albanian civilians in 1914 by the Serbo-Montenegrin army and the killing of Catholic priest Luigj Palaj were some of the most reported wartime events which took place in Gjakova.Serbian priests forcibly converted Albanian Catholics to Serbian Orthodoxy. According to a 20 March 1913 Neue Freie Presse article, Orthodox priests and the military converted 300 Gjakova Catholics to the Orthodox faith; Franciscan Pater Angelus, who refused to renounce his faith, was tortured and killed with bayonets. The History Institute in Pristina reported that Montenegro converted over 1,700 Albanian Catholics to the Serbian Orthodox faith in the Gjakova region in March 1913. Albert von Mensdorff-Pouilly-Dietrichstein told Edward Grey in a 10 March 1912 interview that Serbian soldiers behaved in a \\\"barbarous way\\\" toward Muslim and Catholic Albanians in Gjakova. During World War II, when Kosovo was made a part of Greater Albania under Italian rule and later under German control, Serbs were persecuted by Albanian paramilitaries. A large number of killings of Serbs took place in 1941 in the district of Gjakova.\\nIn 1953\\u201356, a systematic campaign of police repression was conducted throughout Kosovo with the goal to force Albanians to leave the region. The first protest against the Yugoslav police which involved the unfurling of the banned Albanian national flag was held in Gjakova on May Day, 1956. This protest was soon followed by other protests which involved high school and university students who unfurled the Albanian flag in Yugoslavia. A total of 19 Albanians were assassinated by the Yugoslav secret police in Gjakova in these events.In the events of the dissolution of Yugoslavia, the Union of Independent Trade Unions of Kosova (BSPK) was created in 1990. BSPK's members took pride in their large grassroots participation which reached 14,900 workers. The BSPK founding congress was held in Gjakova and despite gaining a permission to be legally held, the police broke it up during its second day. The city was badly affected by the Kosovo War, suffering great physical destruction and large-scale human losses and human rights abuses. In the rural locality of Meja, just 4 km outside Gjakova's city center, the mass killing of at least 377 Albanian males between the ages of 16 and 60 took place on April 27, 1999, by the Serbian police. It is the largest massacre of the Kosovo War.  Many of the bodies of the victims were found in the Batajnica mass graves. The International Criminal Tribunal for the former Yugoslavia has convicted several Serbian army and police officers for their involvement. Actions on the ground had a devastating effect on the city. According to the ICTY, OSCE, and international human rights organisations, about 75% of the population was expelled by Serbian police and paramilitaries as well as Yugoslav forces, while many civilians were killed in the process. Large areas of the city were destroyed, chiefly through arson and looting but also in the course of localised fighting between government security forces and members of the KLA. The actions of the government forces in Gjakova formed a major part of the United Nations war crimes indictment of the then-President Slobodan Milo\\u0161evi\\u0107.  Yugoslav units were stationed in and near the city in two barracks due to the risk of an attack by the Kosovo Liberation Army (KLA) from across the border in Albania. In one incident, NATO aircraft misidentified a convoy of Albanian refugees and attacked it.\\n\\nMost of the Albanian population returned following the end of the war. After that much of the town was rebuilt. Many Albanians viewed the Roma population as participants in war crimes and collaborators in acts of state repression. The Romani neighbourhood of Gjakova (Brekoc) was targeted and parts of it burnt down in mid-1999, about 600 Roma were moved to a refugee camp outside the town and as a result of political violence fifteen were reported killed or missing by August 1999. Fifteen Gjakova Romani were reported killed or missing in political violence as of August 1999. The majority of the Serbian population, numbering 3,000, fled Gjakova in June 1999 with only five Serbs remaining, living under guard by KFOR troops at a local Serbian Orthodox Church. In 2004, the last five remaining Serbs were expelled from Gjakova with the local Serbian Orthodox Church being destroyed by ethnic Albanians during rioting as part of the March unrest in Kosovo. About 15 Serbs had returned to Gjakova by the 2011 census.\\n\\n\\n== Geography ==\\nGjakova is located in the south-western part of Kosovo. To the north-east of the city, the west Kosovan plain of Metohija opens, while in the south-west the peak of Accursed Mountains rises. The city is also situated at the entrance to the Erenik Valley, where the river Krena flows from the north to the Erenik mountain stream. After a few kilometers, it flows into the White Drin, the longest river in Kosovo. To the west of Gjakova lie the Gjakova Highlands, and to the north-east of the city is the Dushkaja region.\\n\\n\\n=== Climate ===\\nGjakova has a Humid subtropical climate (Cfa) as of the K\\u00f6ppen climate classification with an average annual temperature of 11.5 \\u00b0C (52.7 \\u00b0F). The warmest month in Gjakova is August with an average temperature of 22.5 \\u00b0C (72.5 \\u00b0F), while the coldest month is January with an average temperature of 0.7 \\u00b0C (33.3 \\u00b0F).\\n\\n\\n== Demography ==\\nAccording to the 2011 census, the resident population was 94,556, of which urban inhabitants numbered 40,827 and rural 53,729; there were 47,226 males and 47,330 females. The ethnic groups include Albanians (87,672), Balkan Egyptians (5,117), Roma (738), Ashkali (613), and smaller numbers of Bosniaks (73), Serbs (17), Turks (16), Gorani (13) and others. Based on those that answered, the religious make-up was 77,299 Muslims, 16,296 Roman Catholics, 22 Orthodox Christians, 142 others, and 129 irreligious. Based on the population estimates from the Kosovo Agency of Statistics in 2016, the municipality has 95,433 inhabitants. According to OSCE estimations, before the Kosovo War of 1999 the municipality had a population of about 145,000, of which 93% were Kosovo Albanians and 7% non-majority communities, including some 3,000 Serbs, who mostly lived in Gjakova itself.In 2021 Dragica Gasic, the first Serb returnee since the end of the Kosovo War in 1999 returned to her former apartment in Gjakova. Despite being legally allowed to return to her property by the Kosovo Property Agency, her return was marred by threats of violence and harassment from her ethnic-Albanian neighbors.\\n\\nKosovo does not have an official religion. As the rest of the country, the majority of Gjakova's population consider themselves Muslim. The minority of Gjakovas's religious population that is not Muslim practices Christianity in the form of Roman Catholicism and Eastern Orthodoxy. According to the census of 2011, the prominent religion is Islam, including 81.75% of the population, while 17.23% is Roman Catholic Christian, 0.02% Orthodox Christian and 1% other. \\nReligious communities have educational institutions for their needs organized in accordance with applicable law.\\nChristianity has been around in Gjakova for a long time, going back all the way to the time of the Roman Empire. Islam in Gjakova began to be spread very early, during the Ottoman Rule.Most Catholics live in the Rruga e Katolik\\u00ebve street, where the two main churches are, and others in villages. The Muslims, living in other parts of the city and in most villages, have been encouraging the building of mosques, which could have counted about 10\\u201315 buildings during the centuries.\\n\\n\\n== Economy ==\\nGjakova built an economy based on farming and agriculture, lower trade and some types of manufacturing workshops which mainly produce for the needs of city-based products as imported cases. After World War II, Gjakova has built an economy based on industry and agriculture but also in the service sector. Nowadays, these subsequent shifts in transitional societies are escorted with shifts in the economic structure of the city. Therefore, Gjakova has an economic structure that is based on two pillars: in the private business sector and social business sector which is currently being privatized. Private business sector is in expansion and the main indicators qualify it as the main component of Gjakova's economy.According to official sources identified in the Ministry of Trade and Industry, by the end of 2005 there were about 3,200 registered businesses that exercise activity in different areas of Gjakova, such as enterprise manufacturing, construction, service, trade, catering, craft, transportation, information technology, etc. Social economy in 1989 has counted 45 companies that have employed 18,640 workers. In non-economic activities (education, health, culture, government institutions, banks, etc.) there were employed 4000 workers. Furthermore, they also developed the private economy \\u2013 where in 2010 approximately 920 employees were registered in the business entities. The economy of the municipality of Gjakova suffered mostly during the economic sanctions and the mass violence done by Serbian forces during the war. The situation further during NATO's intervention as a result of the destructive actions of multiple military and police forces, which have stood and operated in the economic enterprise facilities. This meant that during their withdrawal, these Serbian forces robbed, looted and destroyed most of the assets, inventories, transportation machines, etc. The losses that were done in the social economy as a result of the war were approximately 190 million DEM, whereas in the private economy around 100 million DEM.According to official data, in 2006, there were 581 registered small and medium enterprises, in 2008 there were 3,120 such registered businesses, while in 2012 their number had reached 4,120. Gjakova currently has 12,000 people employed, in both the public and private sector, mostly in the latter. Although unemployment is high, there is a gradual increase of employment over the years according to data from the Kosovo Ministry of Work and Social Wellbeing. According to government statistics, in 2010, 40,000 people were registered as unemployed, while in 2011 this number decreased to 30,000 and in 2012 to 15,000. 30,000 people in Gjakova receive social assistance. This category includes poor families, people with disabilities, families of war veterans/victims and the retired.Potential industry sectors in the municipality of Gjakova are:\\nMetal industry, which produces metal ropes, nails, galvanized pipes, profiles of metal adhesive bandages. The existing industry also the production of electro motors for washing machines, engines for industrial applications, motors for hermetic compressors, finger jointed and Teflon containers, chimneys, elbows, enameled pots, technical gases, and chrome concentrate.\\nTextile industry, which produced cotton spinning, cotton fabrics, artificial leather, underwear, lingerie costume for men, and different types of fabric (specifically jeans), etc.\\nChemical industry, involves production of the shampoo for domestic and industrial use and other chemical products which are used for household hygiene.\\nFood industry, is mainly known with the production of flour, bread, eggs, pasta, chocolate, high quality wines, and fresh meat.\\nConstruction industry, Gjakova is also known for its construction materials industry, which involves the production of bricks, blocks, tiles, doors and windows, briquette, wooden cottages in the global level (log Houses ) and also the production of asphalt, fresh concrete, concrete slabs, and concrete pipes.The municipal budget of Gjakova was subsidised by donations from USAID, CDF, Austrian Office in Kosovo, the European Commission and others, which over the past four years have done capital investments to the amount of \\u20ac25 million: \\u20ac5.4 million in 2010; \\u20ac6.3m in 2011; \\u20ac6.7m in 2012; \\u20ac6.6m in 2013.The capital investments in the municipality of Gjakova are mainly focused on the regulation of roads including the rehabilitation, pavement and partially their lighting. However, investments for the expansion of the sewage system and the regulation of the canalization remain insufficient. The total amount of funds that are available to the municipality of Gjakova during a year for capital investments lies somewhere over 6 million euros.Dominated by small family businesses, retail stores, cafeterias and providers of basic services, the private sector of Gjakova remains weak. It makes up only 5.5 percent of all businesses registered in Kosovo. According to the Tax Administration Office in Gjakova, 88 to 93 percent of active businesses are businesses with a single owner, five to ten percent are businesses with limited liability and the remaining two percent are large businesses. As in any other place in Kosovo, more than 90 percent of the sector consists of small family businesses which cannot create growth with added value. Only 2 out of 53 studied businesses in the centre of Gjakova declared not having employed any relative.\\nGjakova's private sector, as in other places of Kosovo, is dominated by small businesses which hire 1\\u20135 employees in activities with small added value, such as wholesale and retail, or other service activities such as restaurants and hotels. Wholesale and retail represent 50.5 percent of registered businesses. Other sectors include hotels and restaurants (10.2 percent), production (9.7 percent), transport and communication (7.8 percent), construction (4.2 percent) and agriculture (1.7 percent) among others.\\nOutside of the city's centre, Gjakova's private sector is characterized by ex-social ventures. Only one of the 15 privatized social ventures and one of the two ventures with common shares are completely functional. Both ventures have to do with construction. One of them is \\\"Dukagjini\\\" with 109 employees, which is one of the biggest private employers in Gjakova today. The other venture is \\\"NIKI-S\\\" which at present has 279 employees and is considered the biggest company in Gjakova's municipality.\\n\\n\\n== Notable People ==\\nAbdullah (Dah) Polloshka, Fighter against the Ottoman occupiers, National hero\\nFehmi Agani, Albanian sociologist, academic and politician\\nMahmut Bakalli, Albanian politician, 5th President of the League of Communists of Kosovo\\nLorik Cana, Albanian footballer and captain on National football team of Albania\\nBesim Dina, Albanian television host\\nMasar Caka, Albanian painter\\nGent Cakaj, Albanian minister for Europe and Foreign Affairs\\nBardhyl \\u00c7aushi, Kosovo Albanian dean of law of the University of Pristina\\nTeki Dervishi, Albanian playwright\\nRauf Dhomi, Albanian composer\\nMladen Dodi\\u0107, Serbian football coach\\nAbdullah Pash\\u00eb Dreni, Albanian pasha\\nEmin Duraku, Albanian, partisan\\nBekim Fehmiu, Yugoslav-Albanian actor, the first Eastern European to star in Hollywood during the Cold War\\nG\\u00ebzim Lala, Kosovar Albanian football player who played for FK Galenika Zemun.\\nArdian Gashi, Albanian-Norwegian footballer\\nNora Gjakova, Olympic judo champion\\nRiza bej Gjakova, Albanian nationalist and guerrilla fighter\\nEros Grezda, Albanian footballer\\nBesnik Hasi, Albanian footballer and coach\\nFadil Hoxha, Albanian, first Prime Minister of AP Kosovo\\nAtifete Jahjaga, Albanian, former President of Kosovo\\nBenet Kaci, Albanian media personality\\nValonis Kadrijaj, Albanian-German footballer\\nGjon Nikolle Kazazi was an Albanian Catholic bishop of Skopje, known for discovering Meshari of Gjon Buzuku.\\nArdian Kozniku, former Albanian-Croatian footballer\\nAhmet Koronica, Albanian nationalist\\nFlaka Krelani, Albanian singer\\nNaim Kryeziu, Albanian footballer, part of AS Roma's first Serie A win\\nBurim Kukeli, Albanian footballer\\nMimoza Kusari Lila, Kosovo Albanian politician\\nAvni Mula, Albanian musician\\nBlerim Mula, Albanian footballer and manager\\nMuslim Mulliqi, Albanian impressionist and expressionist painter\\nDimitar Obshti, Bulgarian revolutionary\\nFanol Perdedaj, Albanian-German footballer\\nAli Podrimja, Albanian poet\\nMirlinda Kusari Purrini, Kosovo Albanian economist\\nAleksandar Tijani\\u0107, Serbian journalist and former RTS director\\nEsat Valla, Albanian painter\\nMiodrag Vlahovi\\u0107, Montenegrin former foreign minister\\nLiza Vorfi, Albanian actress\\nVladimir Durkovi\\u0107, Serbian football player and Olympic champion\\nIsmet Peja, Albanian folk singer\\nShkelzen Doli, Albanian violinist in Vienna Philharmonic\\n\\n\\n=== Transport ===\\nThere are lots of infrastructure facilities of railways and platforms which currently are out of function.Pristina International Airport is some 70 kilometres east of Gjakova. It is the only port of entry for air travelers to Kosovo. In northern of the city, there is the Gjakova Airport situated. The airport is expected to become public in the following years, to be used by low-cost commercial airlines and cargo flights.\\n\\n\\n=== Education ===\\nGjakova has a long tradition of education since the beginning of civil life. According to the Gjakova tradition the Hadim Aga library was so rich in books so it was said \\\"Who wants to see the Kaaba, let them visit the library of Hadim Aga\\\". The library had a reading room on the ground floor and the shelf with books upstairs.\\n\\nAccording to some data, schools with Albanian as a language of instruction in the territory of Gjakova were opened before 1840. The Albanian intellectuals from the city, that were educated in the most important educational centers of the Ottoman Empire, had a special role in opening of schools in Albanian during the Albanian National Movement. A particular role in enriching the educational tradition in the region of Gjakova and beyond was the opening of religious schools, initially schools, later the madrasas.The city has become an important university town. Today in the municipality of Gjakova, there is also a large number of primary and secondary schools, in the public sector, as well as in the private sector. The education system is organized in many schools and in the separate physical activity classes. During 2004, there was development respectively. There has been an increase in the number of private institutions, especially at the preschool level, but also in primary and secondary education.The University of Gjakova Fehmi Agani, is one of the newest public universities in Kosovo. The university began operating on 1 October 2013. In 2014, the Gjakova Summer School for Entrepreneurship were opened in the city.\\n\\n\\n== Culture ==\\n\\nHistorical monuments in Gjakova are divided into three main categories based on their cultural, religious and social context. The core part of the city was created between the Krena River to the east and Cabrati hill to the west. Around the cornerstone of the town, the Old Bazaar \\u2013 the center of trade and craftsmanship \\u2013 was created. By 1900, the bazaar housed around 1000 enterprises. Numerous bridges were built to enable the journey of trade caravans across the neighboring rivers. With the fast development of trade in the city, several inns were built to host the many visitors. Because of its ancient origins and fast economic development, Gjakova has become of great historical importance.\\nThe Old or Grand Bazaar (\\u00c7arshia e Madhe) in Gjakova is the oldest bazaar in Kosovo, and it served as an Ottoman trading centre and heart of the city economy. It suffered damage during the Kosovo War but has since been renovated. The Hadum Mosque, built in the 16th century, lies by the bazaar, and includes a highly decorated graveyard, where the city notables were buried. Within the mosque complex were the hamam which was destroyed in 2008, the \\\"Old library\\\" from 1671, damaged in the Kosovo War, and also a meytepi from 1777. The Bazaar is linked to the city centre, just five minutes away via the Islam-Beg Bridge. The bazaar covers an area of about  35,000 m2 (380,000 sq ft) and the length of its main road is 1 km, with about 500 shops situated along it. It is, however, still home to an active mosque, several t\\u00fcrbes, and a clocktower.\\nThe Hadum Mosque, located in the Old Bazaar, built in 1594 by Ottoman architect Mimar Sinan and financed by Hadum Aga. The mosque has played a significant role in the urban character of the city from the 17th to 20th centuries. Its construction was followed by the appearance of the craftsmanship around it, which increased the importance of the city. The mosque holds historical value and is viewed of as a sacred monument. The great Tekke (\\\"Teqja e Madhe\\\"), built by the end of 16th century by Shejh Suleyman Axhiza Baba, a Sufi mystic from Shkodra. It belongs to the Saadi order of Sufism. The complex includes turbe (small mausoleums), samahanes (ritual prayer-halls), houses and fountains. It is characterized with detailed sacral architecture, with wood-carved elements.\\n\\nGjakova is also characterized with two main Catholic Churches, which are part of the cultural heritage. The Saint Paul and Saint Peter Church (Albanian: Kisha e Sh\\u00ebn Palit dhe Sh\\u00ebn Pjetrit) is one of the tallest monuments in Gjakova, which can be seen from different points of the city. The arrival of the Albanian Catholics form Malesia resulted in rejuvenation of Saint Peter's Church in Gjakova in 1703, while in 1851 Gjakova's parish is rejuvenated. In 1999, after the War it was totally destroyed. In the same site the new cathedral has been built.The Saint Ndou Church, was once called also the church of Padre Mila, who had built it in 1882, but it was later destroyed. In 1931, Padre Lorenc Mazrreku built in the same place the church that exists today, which was renovated few times, adding to it the guestrooms, offices and restrooms, but complying with the original architectural concept.The Clock Tower, built just after the Hadum Mosque at a place known as Field of the Clock, characterizes the rapid economic development of Gjakova at that time. It was destroyed during the Balkan Wars, while the belfry was removed and transported to Montenegro. With sides 4.10m long and a height of about 30 meters, a new clock tower was built later near the foundations of the previous one. Constructed mainly of stone with the wooden observation area and the roof covered in lead, the clock tower is unique of its kind.\\n\\n\\n=== Festivals ===\\n\\nEvents and festivals in Gjakova are not as much in numbers, as they are highly valued. The historic city of Gjakova, Kosovo, especially the Old Town, is the hub of many outdoor and indoor festivals, cultural events and street parades. Many of them are seasonal and take place only one time, while others are organised annually for many years by various festival societies. All of them draw interest from the locals and visitors alike. Some of the events are organised by the city, some by private companies as well.\\n\\n\\n=== Sports ===\\nApart from being a culture and educative center of the Kosovo, Gjakova is also known as a sport center. The best example of this is the fact of having 38 clubs, which compete in all leagues over Kosovo.\\nGjakova's most successful team is KF V\\u00ebllaznimi which has won 9 titles of Kosovar Superliga and 4 Kosovo Cups.\\n\\\"Shani Nushi\\\" is the city's sports hall, which has a capacity of 3500 seats, while the Gjakova City Stadium has a capacity of 6000 seats.\\n\\n\\n== International relations ==\\n\\nGjakova is twinned with:\\n\\n Fort Dodge, United States\\n Jamestown, United States\\n Lod\\u00e8ve, France\\n Saranda, Albania\\n\\n\\n== See also ==\\nList of people from Gjakova\\n\\n\\n== Notes ==\\n\\n\\n== References ==\\n\\n\\n== Sources ==\\nClark, Howard (2000). Civil Resistance in Kosovo. Pluto Press. ISBN 0745315690.\\n\\n\\n== External links ==\\n\\nkk.rks-gov.net/gjakove \\u2013 Official Website (in Albanian)\",\n          \"Mazabuka is a town in the Southern Province of Zambia. It is the capital of Mazabuka District, one of the thirteen administrative units in the Southern Province.\\n\\n\\n== Etymology ==\\nThe name Mazabuka originates from a Tonga local language word \\\"kuzabuka\\\" which means \\\"To cross over the river\\\". The name should have been \\\"mwazabuka\\\" which translates to \\\"you have crossed\\\". However, due assimilation, the name became \\\"Mazabuka\\\" which nonetheless translates to \\\"you have crossed\\\". It is believed that the name was coined after the Tonga people crossed the Kafue River near a place called Nanga during their migrations.\\n\\n\\n== Location ==\\nThe town is located in Mazabuka District, in Zambia's Southern Province. The town lies on the south east edge of the Kafue Flats wetland, along the \\nLusaka\\u2013Livingstone Road. It is approximately 135 kilometres (84 mi), by road, southwest of Lusaka, the national capital and largest city. The geographical coordinates of Mazabuka are:15\\u00b050'48.0\\\"S, 27\\u00b044'51.0\\\"E (Latitude:-15.846667; Longitude:27.747500). Mazabuka sits at an average elevation of 1,067 metres (3,501 ft) above mean sea level.\\n\\n\\n== Overview ==\\nThe town has grown around sugar cane plantations, and currently it hosts the headquarters of Zambia Sugar, the largest sugar-manufacturing company in Zambia, with annual output in excess of 318,467 tonnes (351,050 tons) of crystalline sugar annually.\\n\\n\\n== History ==\\nDuring World War II, 50 Polish refugees escaping from German- and Soviet-occupied Poland, were admitted in Mazabuka in 1941.\\n\\n\\n== Population ==\\nIn 1990, the city had 24,596 people. In 2000, the town's population was 47,148 people. During the 2010 national census and household population survey, the city had 71,700 inhabitants. The table below illustrates the same data in tabular format.\\n\\n\\n== Transport ==\\nWhile being on the Lusaka\\u2013Livingstone Road, Mazabuka is also connected to Lusaka in the north-east and Livingstone in the south-west by the Zambia Railways line.\\n\\n\\n== Education ==\\nMazabuka is home to two well known day schools, among others,in the province. Both are grant aided schools run by the Roman Catholic missionaries. These are St Edmunds Secondary School and Mazabuka Girls Secondary School. The two have the highest enrollment of grade eights(G8) from all the primary schools. \\nMusikili Primary School is a private boarding school for children between 5 and 13 years old. Flamboyant School, is a school for children with disabilities and is located on the outskirts of the town. It is operated by the Mazabuka Association for the Disabled.\\n\\n\\n== Healthcare ==\\nMazabuka is home to (a) Mazabuka Sugar Hospital for the management and staff of Zambia Sugar Plc and (b) Mazabuka General Hospital for the general public.\\n\\n\\n== Notable people ==\\nMizinga Melu, the Zambian businesswoman and bank chief executive who serves as the managing director and CEO of Absa Bank Zambia Plc, was born in Mazabuka.\\n\\n\\n== Munali Nickel Mine ==\\nIn September 2006 following a positive feasibility study, Albidon Limited of Australia obtained permits and approvals to mine Nickel in Mazabuka. The initial project development required more than U$180 million, which was funded by debt financing from Barclays Capital and the European Investment Bank and equity from Albidon Limited, JINCHUAN mining group of China and ZCCM Investment Holdings .In April 2007, then Zambian President, Levy Mwanawasa launched the Munali Nickel Project at a ground breaking ceremony. The mine would be built and operated under the venture's special purpose vehicle Albidon Zambia Limited (AZL).AZL commenced mining and production of nickel concentrates in April 2008. Operations were suspended in 2009 because of poor market conditions. From the peak of the Financial crisis of 2007 - 2008 the Mine would struggle for many years.It was briefly owned and run by JINCHUAN mining group of China from 2010. JINCHUAN would invest U$ 37 million and employ about 350 workers. However, the mine was shut down again in 2011 due to cashflow problems.A joint venture Mabiza Resources between Consolidated Nickel Mines Plc of the United kingdom and  CE Mining took ownership in 2014 but delayed capital injection which led the government of Zambia at the time to threaten repossession of the asset. From 2015 the JV has placed in U$ 50 million investment to reboot operations at the Munali Nickel Mine. The Mine recommenced operations in 2019.The mine is managed by an all-Zambian management team and currently has a workforce of 380 people, of which 10% are women. Munali currently exports over 10% high quality Nickel concentrate. The mine is expected to generate 3,300t of Ni in 2020, which is anticipated to reach 4,000t in 2021. Although it is billed as a nickel project, Munali also contains commercial quantities of copper, cobalt and platinum group metals (PGMs).See Also: Mining in Zambia\\n\\n\\n== References ==\\n\\n\\n== External links ==\\nWebsite of Assumption Parish Mazabuka\\nWebsite of Musikili Primary School\\nZambia: Mazabuka has more sugar cane than people As at 2 February 1998.\"\n        ],\n        \"semantic_type\": \"\",\n        \"description\": \"\"\n      }\n    },\n    {\n      \"column\": \"latitude\",\n      \"properties\": {\n        \"dtype\": \"number\",\n        \"std\": 22.388317981295117,\n        \"min\": -54.8019,\n        \"max\": 69.3333,\n        \"num_unique_values\": 7012,\n        \"samples\": [\n          8.0667,\n          42.4614,\n          14.63\n        ],\n        \"semantic_type\": \"\",\n        \"description\": \"\"\n      }\n    },\n    {\n      \"column\": \"longitude\",\n      \"properties\": {\n        \"dtype\": \"number\",\n        \"std\": 72.06629167499821,\n        \"min\": -157.846,\n        \"max\": 178.5454,\n        \"num_unique_values\": 7350,\n        \"samples\": [\n          81.6167,\n          11.3428,\n          -87.917\n        ],\n        \"semantic_type\": \"\",\n        \"description\": \"\"\n      }\n    }\n  ]\n}"
            }
          },
          "metadata": {},
          "execution_count": 3
        }
      ]
    },
    {
      "cell_type": "code",
      "source": [
        "# Longueur des articles en caractères\n",
        "lengths = df['wikipedia_content'].str.len()\n",
        "print(lengths.sum())\n",
        "lengths.describe()"
      ],
      "metadata": {
        "id": "Lm1GB0K-SvRQ",
        "colab": {
          "base_uri": "https://localhost:8080/",
          "height": 352
        },
        "outputId": "3f4b3fa3-8837-48d4-e252-1a3d3be9d5db"
      },
      "execution_count": null,
      "outputs": [
        {
          "output_type": "stream",
          "name": "stdout",
          "text": [
            "110059340\n"
          ]
        },
        {
          "output_type": "execute_result",
          "data": {
            "text/plain": [
              "count      7819.000000\n",
              "mean      14075.884384\n",
              "std       18219.283805\n",
              "min          68.000000\n",
              "25%        2769.500000\n",
              "50%        6874.000000\n",
              "75%       17343.500000\n",
              "max      228327.000000\n",
              "Name: wikipedia_content, dtype: float64"
            ],
            "text/html": [
              "<div>\n",
              "<style scoped>\n",
              "    .dataframe tbody tr th:only-of-type {\n",
              "        vertical-align: middle;\n",
              "    }\n",
              "\n",
              "    .dataframe tbody tr th {\n",
              "        vertical-align: top;\n",
              "    }\n",
              "\n",
              "    .dataframe thead th {\n",
              "        text-align: right;\n",
              "    }\n",
              "</style>\n",
              "<table border=\"1\" class=\"dataframe\">\n",
              "  <thead>\n",
              "    <tr style=\"text-align: right;\">\n",
              "      <th></th>\n",
              "      <th>wikipedia_content</th>\n",
              "    </tr>\n",
              "  </thead>\n",
              "  <tbody>\n",
              "    <tr>\n",
              "      <th>count</th>\n",
              "      <td>7819.000000</td>\n",
              "    </tr>\n",
              "    <tr>\n",
              "      <th>mean</th>\n",
              "      <td>14075.884384</td>\n",
              "    </tr>\n",
              "    <tr>\n",
              "      <th>std</th>\n",
              "      <td>18219.283805</td>\n",
              "    </tr>\n",
              "    <tr>\n",
              "      <th>min</th>\n",
              "      <td>68.000000</td>\n",
              "    </tr>\n",
              "    <tr>\n",
              "      <th>25%</th>\n",
              "      <td>2769.500000</td>\n",
              "    </tr>\n",
              "    <tr>\n",
              "      <th>50%</th>\n",
              "      <td>6874.000000</td>\n",
              "    </tr>\n",
              "    <tr>\n",
              "      <th>75%</th>\n",
              "      <td>17343.500000</td>\n",
              "    </tr>\n",
              "    <tr>\n",
              "      <th>max</th>\n",
              "      <td>228327.000000</td>\n",
              "    </tr>\n",
              "  </tbody>\n",
              "</table>\n",
              "</div><br><label><b>dtype:</b> float64</label>"
            ]
          },
          "metadata": {},
          "execution_count": 4
        }
      ]
    },
    {
      "cell_type": "markdown",
      "source": [
        "Comme on le voit, les longueurs des différents articles sont très inégales. De plus, l'article le plus long comporte 230 000 caractères, soit certainement plusieurs dizaines de milliers de tokens après tokenization. Il n'est donc pas envisageable d'avoir une équivalence simple où un document correspond à un article.\n",
        "\n",
        "De plus, la longueur totale du corpus étant très grande, son indexation risque de prendre beaucoup de temps. Nous allons donc travailler sur un sous-jeu de données très réduit (10 articles) à but d'exemple, puis nous utiliserons un index déjà pré-calculé pour avoir accès à plus de données.\n",
        "\n",
        "La première étape va être de convertir les données existantes en documents, c'est-à-dire des données textuelles possédant des métadonnées supplémentaires. Ici, la métadonnée principale qui nous intéresse est la source, c'est-à-dire d'où le document est issu.\n",
        "\n",
        "La conversion en documents se fait en deux temps :\n",
        "1. Commencer par définir un gros document par article\n",
        "2. Découper tous les articles en sous-documents de taille fixe."
      ],
      "metadata": {
        "id": "dIji7as8TtaI"
      }
    },
    {
      "cell_type": "code",
      "source": [
        "# Sélection de 10 articles seulement\n",
        "ds = load_dataset(\"Sketched33/Cities_Wikipedia_Information\", split=\"train[:10]\")\n",
        "\n",
        "# 1. Création des gros documents\n",
        "source_docs = []\n",
        "for doc in ds:\n",
        "    source_docs.append(Document(\n",
        "        page_content=doc[\"wikipedia_content\"],\n",
        "        metadata={\"source\": \"Wikipedia - \" + doc[\"city_name\"]}\n",
        "    ))"
      ],
      "metadata": {
        "id": "fIW9Bzagfl8i"
      },
      "execution_count": null,
      "outputs": []
    },
    {
      "cell_type": "markdown",
      "source": [
        "Avant de procéder à la sous-étape 2, il nous faut déjà réfléchir à la suite des opérations. En effet, on souhaite éviter de découper les documents au milieu des mots. Il nous faut donc choisir un tokeniseur.\n",
        "\n",
        "L'étape suivante consistera à indexer les documents, ce que nous ferons grâce à un modèle qui convertira chaque sous-document en embeddings. Il faut donc que notre tokeniseur corresponde à ce modèle.\n",
        "\n",
        "Plus précisément, la conversion en embeddings se fait grâce à un modèle de type *encodeur*. Nous utiliserons ici les modèles [GTE](https://arxiv.org/abs/2308.03281), et nous choisissons la version la plus petite (384 dimensions), qui est amplement suffisante pour ce projet.\n",
        "\n",
        "Remarque : La tokenisation et la génération des embeddings sont ici effectuées en local, et non pas dans le nuage. Cependant, il est possible de réaliser ces étapes en utilisant l'API de Huggingface."
      ],
      "metadata": {
        "id": "fJi167ahVnRK"
      }
    },
    {
      "cell_type": "code",
      "source": [
        "# Création du tokeniseur\n",
        "embedding_model_name = \"thenlper/gte-small\"\n",
        "tokenizer = AutoTokenizer.from_pretrained(embedding_model_name)\n",
        "\n",
        "\n",
        "# Création du découpeur de documents. Ce découpeur tente de préserver la hiérarchie du texte si possible,\n",
        "# en évitant de découper au milieu d'un paragraphe par exemple.\n",
        "text_splitter = RecursiveCharacterTextSplitter.from_huggingface_tokenizer(\n",
        "    tokenizer,\n",
        "    chunk_size=500,\n",
        "    chunk_overlap=50,\n",
        "    add_start_index=True,\n",
        "    strip_whitespace=True,\n",
        ")"
      ],
      "metadata": {
        "id": "-kaiHg1fVqGl"
      },
      "execution_count": null,
      "outputs": []
    },
    {
      "cell_type": "markdown",
      "source": [
        "\n",
        "chunk_size=500: Divise le texte en morceaux de 500 caractères. C'est la longueur maximale d'un \"chunk\".\n",
        "\n",
        "chunk_overlap=50: Les morceaux se chevauchent sur 50 caractères. Cela assure une meilleure fluidité et évite de couper les phrases ou les idées importantes en deux.\n",
        "\n",
        "add_start_index=True: Enregistre la position de chaque morceau dans le texte original. Utile pour savoir d'où vient l'information.\n",
        "\n",
        "strip_whitespace=True: Supprime les espaces inutiles au début et à la fin de chaque morceau, pour un traitement plus propre."
      ],
      "metadata": {
        "id": "iBVm-1bQXosQ"
      }
    },
    {
      "cell_type": "code",
      "source": [
        "# 2. Exécution du découpage, et création d'une liste de tous les sous-documents.\n",
        "# On vérifie ici également qu'il n'y ait pas de doublons.\n",
        "docs_processed = []\n",
        "docs_added = set()\n",
        "for doc in tqdm(source_docs):\n",
        "    new_docs = text_splitter.split_documents([doc])\n",
        "    for new_doc in new_docs:\n",
        "        if new_doc.page_content not in docs_added:\n",
        "            docs_added.add(new_doc.page_content)\n",
        "            docs_processed.append(new_doc)\n",
        "\n",
        "print()\n",
        "print(f'Total : {len(docs_processed)} documents')\n",
        "\n",
        "pd.DataFrame({**doc.metadata, 'page_content': doc.page_content} for doc in docs_processed)"
      ],
      "metadata": {
        "id": "6IvnZz_1iBGT",
        "colab": {
          "base_uri": "https://localhost:8080/",
          "height": 476
        },
        "outputId": "0756d565-1ef5-4307-a8d4-ff80f5e6d63f"
      },
      "execution_count": null,
      "outputs": [
        {
          "output_type": "stream",
          "name": "stderr",
          "text": [
            "100%|██████████| 10/10 [00:10<00:00,  1.03s/it]"
          ]
        },
        {
          "output_type": "stream",
          "name": "stdout",
          "text": [
            "\n",
            "Total : 592 documents\n"
          ]
        },
        {
          "output_type": "stream",
          "name": "stderr",
          "text": [
            "\n"
          ]
        },
        {
          "output_type": "execute_result",
          "data": {
            "text/plain": [
              "                      source  start_index  \\\n",
              "0          Wikipedia - Tokyo            0   \n",
              "1          Wikipedia - Tokyo         1271   \n",
              "2          Wikipedia - Tokyo           -1   \n",
              "3          Wikipedia - Tokyo         2321   \n",
              "4          Wikipedia - Tokyo           -1   \n",
              "..                       ...          ...   \n",
              "587  Wikipedia - Mexico City        78566   \n",
              "588  Wikipedia - Mexico City        79934   \n",
              "589  Wikipedia - Mexico City        81793   \n",
              "590  Wikipedia - Mexico City        83695   \n",
              "591  Wikipedia - Mexico City        84307   \n",
              "\n",
              "                                          page_content  \n",
              "0    Tokyo (; Japanese: 東京, Tōkyō, [toːkʲoː] ), off...  \n",
              "1    Prior to the 17th century, Tokyo was predomina...  \n",
              "2    Great Kantō earthquake, and the city was later...  \n",
              "3    home to 29 of the world's largest 500 companie...  \n",
              "4    Line, which opened in 1927, is the oldest unde...  \n",
              "..                                                 ...  \n",
              "587  === Media ===\\nMexico City is Mexico's most im...  \n",
              "588  === Sports ===\\nAssociation football is the co...  \n",
              "589  The Autódromo Hermanos Rodríguez is the main v...  \n",
              "590  Other sports facilities in Mexico City are the...  \n",
              "591  == See also ==\\nList of pre-columbian archaeol...  \n",
              "\n",
              "[592 rows x 3 columns]"
            ],
            "text/html": [
              "\n",
              "  <div id=\"df-b00c2e9d-dc43-4579-898e-6b31777882ce\" class=\"colab-df-container\">\n",
              "    <div>\n",
              "<style scoped>\n",
              "    .dataframe tbody tr th:only-of-type {\n",
              "        vertical-align: middle;\n",
              "    }\n",
              "\n",
              "    .dataframe tbody tr th {\n",
              "        vertical-align: top;\n",
              "    }\n",
              "\n",
              "    .dataframe thead th {\n",
              "        text-align: right;\n",
              "    }\n",
              "</style>\n",
              "<table border=\"1\" class=\"dataframe\">\n",
              "  <thead>\n",
              "    <tr style=\"text-align: right;\">\n",
              "      <th></th>\n",
              "      <th>source</th>\n",
              "      <th>start_index</th>\n",
              "      <th>page_content</th>\n",
              "    </tr>\n",
              "  </thead>\n",
              "  <tbody>\n",
              "    <tr>\n",
              "      <th>0</th>\n",
              "      <td>Wikipedia - Tokyo</td>\n",
              "      <td>0</td>\n",
              "      <td>Tokyo (; Japanese: 東京, Tōkyō, [toːkʲoː] ), off...</td>\n",
              "    </tr>\n",
              "    <tr>\n",
              "      <th>1</th>\n",
              "      <td>Wikipedia - Tokyo</td>\n",
              "      <td>1271</td>\n",
              "      <td>Prior to the 17th century, Tokyo was predomina...</td>\n",
              "    </tr>\n",
              "    <tr>\n",
              "      <th>2</th>\n",
              "      <td>Wikipedia - Tokyo</td>\n",
              "      <td>-1</td>\n",
              "      <td>Great Kantō earthquake, and the city was later...</td>\n",
              "    </tr>\n",
              "    <tr>\n",
              "      <th>3</th>\n",
              "      <td>Wikipedia - Tokyo</td>\n",
              "      <td>2321</td>\n",
              "      <td>home to 29 of the world's largest 500 companie...</td>\n",
              "    </tr>\n",
              "    <tr>\n",
              "      <th>4</th>\n",
              "      <td>Wikipedia - Tokyo</td>\n",
              "      <td>-1</td>\n",
              "      <td>Line, which opened in 1927, is the oldest unde...</td>\n",
              "    </tr>\n",
              "    <tr>\n",
              "      <th>...</th>\n",
              "      <td>...</td>\n",
              "      <td>...</td>\n",
              "      <td>...</td>\n",
              "    </tr>\n",
              "    <tr>\n",
              "      <th>587</th>\n",
              "      <td>Wikipedia - Mexico City</td>\n",
              "      <td>78566</td>\n",
              "      <td>=== Media ===\\nMexico City is Mexico's most im...</td>\n",
              "    </tr>\n",
              "    <tr>\n",
              "      <th>588</th>\n",
              "      <td>Wikipedia - Mexico City</td>\n",
              "      <td>79934</td>\n",
              "      <td>=== Sports ===\\nAssociation football is the co...</td>\n",
              "    </tr>\n",
              "    <tr>\n",
              "      <th>589</th>\n",
              "      <td>Wikipedia - Mexico City</td>\n",
              "      <td>81793</td>\n",
              "      <td>The Autódromo Hermanos Rodríguez is the main v...</td>\n",
              "    </tr>\n",
              "    <tr>\n",
              "      <th>590</th>\n",
              "      <td>Wikipedia - Mexico City</td>\n",
              "      <td>83695</td>\n",
              "      <td>Other sports facilities in Mexico City are the...</td>\n",
              "    </tr>\n",
              "    <tr>\n",
              "      <th>591</th>\n",
              "      <td>Wikipedia - Mexico City</td>\n",
              "      <td>84307</td>\n",
              "      <td>== See also ==\\nList of pre-columbian archaeol...</td>\n",
              "    </tr>\n",
              "  </tbody>\n",
              "</table>\n",
              "<p>592 rows × 3 columns</p>\n",
              "</div>\n",
              "    <div class=\"colab-df-buttons\">\n",
              "\n",
              "  <div class=\"colab-df-container\">\n",
              "    <button class=\"colab-df-convert\" onclick=\"convertToInteractive('df-b00c2e9d-dc43-4579-898e-6b31777882ce')\"\n",
              "            title=\"Convert this dataframe to an interactive table.\"\n",
              "            style=\"display:none;\">\n",
              "\n",
              "  <svg xmlns=\"http://www.w3.org/2000/svg\" height=\"24px\" viewBox=\"0 -960 960 960\">\n",
              "    <path d=\"M120-120v-720h720v720H120Zm60-500h600v-160H180v160Zm220 220h160v-160H400v160Zm0 220h160v-160H400v160ZM180-400h160v-160H180v160Zm440 0h160v-160H620v160ZM180-180h160v-160H180v160Zm440 0h160v-160H620v160Z\"/>\n",
              "  </svg>\n",
              "    </button>\n",
              "\n",
              "  <style>\n",
              "    .colab-df-container {\n",
              "      display:flex;\n",
              "      gap: 12px;\n",
              "    }\n",
              "\n",
              "    .colab-df-convert {\n",
              "      background-color: #E8F0FE;\n",
              "      border: none;\n",
              "      border-radius: 50%;\n",
              "      cursor: pointer;\n",
              "      display: none;\n",
              "      fill: #1967D2;\n",
              "      height: 32px;\n",
              "      padding: 0 0 0 0;\n",
              "      width: 32px;\n",
              "    }\n",
              "\n",
              "    .colab-df-convert:hover {\n",
              "      background-color: #E2EBFA;\n",
              "      box-shadow: 0px 1px 2px rgba(60, 64, 67, 0.3), 0px 1px 3px 1px rgba(60, 64, 67, 0.15);\n",
              "      fill: #174EA6;\n",
              "    }\n",
              "\n",
              "    .colab-df-buttons div {\n",
              "      margin-bottom: 4px;\n",
              "    }\n",
              "\n",
              "    [theme=dark] .colab-df-convert {\n",
              "      background-color: #3B4455;\n",
              "      fill: #D2E3FC;\n",
              "    }\n",
              "\n",
              "    [theme=dark] .colab-df-convert:hover {\n",
              "      background-color: #434B5C;\n",
              "      box-shadow: 0px 1px 3px 1px rgba(0, 0, 0, 0.15);\n",
              "      filter: drop-shadow(0px 1px 2px rgba(0, 0, 0, 0.3));\n",
              "      fill: #FFFFFF;\n",
              "    }\n",
              "  </style>\n",
              "\n",
              "    <script>\n",
              "      const buttonEl =\n",
              "        document.querySelector('#df-b00c2e9d-dc43-4579-898e-6b31777882ce button.colab-df-convert');\n",
              "      buttonEl.style.display =\n",
              "        google.colab.kernel.accessAllowed ? 'block' : 'none';\n",
              "\n",
              "      async function convertToInteractive(key) {\n",
              "        const element = document.querySelector('#df-b00c2e9d-dc43-4579-898e-6b31777882ce');\n",
              "        const dataTable =\n",
              "          await google.colab.kernel.invokeFunction('convertToInteractive',\n",
              "                                                    [key], {});\n",
              "        if (!dataTable) return;\n",
              "\n",
              "        const docLinkHtml = 'Like what you see? Visit the ' +\n",
              "          '<a target=\"_blank\" href=https://colab.research.google.com/notebooks/data_table.ipynb>data table notebook</a>'\n",
              "          + ' to learn more about interactive tables.';\n",
              "        element.innerHTML = '';\n",
              "        dataTable['output_type'] = 'display_data';\n",
              "        await google.colab.output.renderOutput(dataTable, element);\n",
              "        const docLink = document.createElement('div');\n",
              "        docLink.innerHTML = docLinkHtml;\n",
              "        element.appendChild(docLink);\n",
              "      }\n",
              "    </script>\n",
              "  </div>\n",
              "\n",
              "\n",
              "<div id=\"df-61885c2f-1433-4155-8a04-658ff5cd7d15\">\n",
              "  <button class=\"colab-df-quickchart\" onclick=\"quickchart('df-61885c2f-1433-4155-8a04-658ff5cd7d15')\"\n",
              "            title=\"Suggest charts\"\n",
              "            style=\"display:none;\">\n",
              "\n",
              "<svg xmlns=\"http://www.w3.org/2000/svg\" height=\"24px\"viewBox=\"0 0 24 24\"\n",
              "     width=\"24px\">\n",
              "    <g>\n",
              "        <path d=\"M19 3H5c-1.1 0-2 .9-2 2v14c0 1.1.9 2 2 2h14c1.1 0 2-.9 2-2V5c0-1.1-.9-2-2-2zM9 17H7v-7h2v7zm4 0h-2V7h2v10zm4 0h-2v-4h2v4z\"/>\n",
              "    </g>\n",
              "</svg>\n",
              "  </button>\n",
              "\n",
              "<style>\n",
              "  .colab-df-quickchart {\n",
              "      --bg-color: #E8F0FE;\n",
              "      --fill-color: #1967D2;\n",
              "      --hover-bg-color: #E2EBFA;\n",
              "      --hover-fill-color: #174EA6;\n",
              "      --disabled-fill-color: #AAA;\n",
              "      --disabled-bg-color: #DDD;\n",
              "  }\n",
              "\n",
              "  [theme=dark] .colab-df-quickchart {\n",
              "      --bg-color: #3B4455;\n",
              "      --fill-color: #D2E3FC;\n",
              "      --hover-bg-color: #434B5C;\n",
              "      --hover-fill-color: #FFFFFF;\n",
              "      --disabled-bg-color: #3B4455;\n",
              "      --disabled-fill-color: #666;\n",
              "  }\n",
              "\n",
              "  .colab-df-quickchart {\n",
              "    background-color: var(--bg-color);\n",
              "    border: none;\n",
              "    border-radius: 50%;\n",
              "    cursor: pointer;\n",
              "    display: none;\n",
              "    fill: var(--fill-color);\n",
              "    height: 32px;\n",
              "    padding: 0;\n",
              "    width: 32px;\n",
              "  }\n",
              "\n",
              "  .colab-df-quickchart:hover {\n",
              "    background-color: var(--hover-bg-color);\n",
              "    box-shadow: 0 1px 2px rgba(60, 64, 67, 0.3), 0 1px 3px 1px rgba(60, 64, 67, 0.15);\n",
              "    fill: var(--button-hover-fill-color);\n",
              "  }\n",
              "\n",
              "  .colab-df-quickchart-complete:disabled,\n",
              "  .colab-df-quickchart-complete:disabled:hover {\n",
              "    background-color: var(--disabled-bg-color);\n",
              "    fill: var(--disabled-fill-color);\n",
              "    box-shadow: none;\n",
              "  }\n",
              "\n",
              "  .colab-df-spinner {\n",
              "    border: 2px solid var(--fill-color);\n",
              "    border-color: transparent;\n",
              "    border-bottom-color: var(--fill-color);\n",
              "    animation:\n",
              "      spin 1s steps(1) infinite;\n",
              "  }\n",
              "\n",
              "  @keyframes spin {\n",
              "    0% {\n",
              "      border-color: transparent;\n",
              "      border-bottom-color: var(--fill-color);\n",
              "      border-left-color: var(--fill-color);\n",
              "    }\n",
              "    20% {\n",
              "      border-color: transparent;\n",
              "      border-left-color: var(--fill-color);\n",
              "      border-top-color: var(--fill-color);\n",
              "    }\n",
              "    30% {\n",
              "      border-color: transparent;\n",
              "      border-left-color: var(--fill-color);\n",
              "      border-top-color: var(--fill-color);\n",
              "      border-right-color: var(--fill-color);\n",
              "    }\n",
              "    40% {\n",
              "      border-color: transparent;\n",
              "      border-right-color: var(--fill-color);\n",
              "      border-top-color: var(--fill-color);\n",
              "    }\n",
              "    60% {\n",
              "      border-color: transparent;\n",
              "      border-right-color: var(--fill-color);\n",
              "    }\n",
              "    80% {\n",
              "      border-color: transparent;\n",
              "      border-right-color: var(--fill-color);\n",
              "      border-bottom-color: var(--fill-color);\n",
              "    }\n",
              "    90% {\n",
              "      border-color: transparent;\n",
              "      border-bottom-color: var(--fill-color);\n",
              "    }\n",
              "  }\n",
              "</style>\n",
              "\n",
              "  <script>\n",
              "    async function quickchart(key) {\n",
              "      const quickchartButtonEl =\n",
              "        document.querySelector('#' + key + ' button');\n",
              "      quickchartButtonEl.disabled = true;  // To prevent multiple clicks.\n",
              "      quickchartButtonEl.classList.add('colab-df-spinner');\n",
              "      try {\n",
              "        const charts = await google.colab.kernel.invokeFunction(\n",
              "            'suggestCharts', [key], {});\n",
              "      } catch (error) {\n",
              "        console.error('Error during call to suggestCharts:', error);\n",
              "      }\n",
              "      quickchartButtonEl.classList.remove('colab-df-spinner');\n",
              "      quickchartButtonEl.classList.add('colab-df-quickchart-complete');\n",
              "    }\n",
              "    (() => {\n",
              "      let quickchartButtonEl =\n",
              "        document.querySelector('#df-61885c2f-1433-4155-8a04-658ff5cd7d15 button');\n",
              "      quickchartButtonEl.style.display =\n",
              "        google.colab.kernel.accessAllowed ? 'block' : 'none';\n",
              "    })();\n",
              "  </script>\n",
              "</div>\n",
              "\n",
              "    </div>\n",
              "  </div>\n"
            ],
            "application/vnd.google.colaboratory.intrinsic+json": {
              "type": "dataframe",
              "summary": "{\n  \"name\": \"pd\",\n  \"rows\": 592,\n  \"fields\": [\n    {\n      \"column\": \"source\",\n      \"properties\": {\n        \"dtype\": \"category\",\n        \"num_unique_values\": 10,\n        \"samples\": [\n          \"Wikipedia - Seoul\",\n          \"Wikipedia - Jakarta\",\n          \"Wikipedia - Manila\"\n        ],\n        \"semantic_type\": \"\",\n        \"description\": \"\"\n      }\n    },\n    {\n      \"column\": \"start_index\",\n      \"properties\": {\n        \"dtype\": \"number\",\n        \"std\": 24345,\n        \"min\": -1,\n        \"max\": 89492,\n        \"num_unique_values\": 489,\n        \"samples\": [\n          31565,\n          18374,\n          2230\n        ],\n        \"semantic_type\": \"\",\n        \"description\": \"\"\n      }\n    },\n    {\n      \"column\": \"page_content\",\n      \"properties\": {\n        \"dtype\": \"string\",\n        \"num_unique_values\": 592,\n        \"samples\": [\n          \"period.In 568, Jinheung Taewang made another royal visit to the northern border, visited Hanseong, and stayed in Namcheon on his way back to the capital. During his stay, he set Jinheung Taewang Stele, abolished Bukhansan Province, and established Namcheon Province (\\ub0a8\\ucc9c\\uc8fc; \\u5357\\u5ddd\\u5dde; South River Province), appointing the city as the provincial capital. Based on the naming system, the actual name of Han River during this time was likely Namcheon (Nam River) itself or should have the word ending with \\\"cheon\\\" (\\ucc9c; \\u5ddd) not \\\"gang\\\" (\\uac15; \\u6c5f) nor \\\"su\\\"\",\n          \"=== Media ===\\nMexico City is Mexico's most important hub for the printed media and book publishing industries. Dozens of daily newspapers are published, including El Universal, Exc\\u00e9lsior, Reforma and La Jornada. Other major papers include Milenio, Cr\\u00f3nica, El Economista and El Financiero. Leading magazines include Expansi\\u00f3n, Proceso, Poder, as well as dozens of entertainment publications such as Vanidades, Qui\\u00e9n, Chilango, TV Notas, and local editions of Vogue, GQ, and Architectural Digest.\\nIt is also a leading center of the advertising industry. Most international ad firms have offices in the city, including Grey, JWT, Leo Burnett, Euro RSCG, BBDO, Ogilvy, Saatchi & Saatchi, and McCann Erickson. Many local firms also compete in the sector, including Alazraki, Olabuenaga/Chemistri, Ter\\u00e1n, Augusto El\\u00edas, and Clemente C\\u00e1mara, among others. There are 60 radio stations operating in the city and many local community radio transmission networks.\\nThe two largest media companies in the Spanish-speaking world, Televisa and TV Azteca, are headquartered in Mexico City. Televisa often presents itself as the largest producer of Spanish-language content. Other local television channels include:\\nXHDF 1 (Azteca Uno),XEW 2 (Televisa W),XHCTMX 3,\\nXHTV 4,\\nXHGC 5,\\nXHTDMX 6,\\nXHIMT 7,\\nXEQ 9,\\nXEIPN 11,\\nXHUNAM 20,\\nXHCDM 21,\\nXEIMT 22,\\nXHTRES 28,\\nXHTVM 40 and\\nXHHCU 45.\",\n          \"Hornby Vellard project, which undertook reclamation of the area between the seven islands from the Arabian Sea. Along with the construction of major roads and railways, the reclamation project, completed in 1845, transformed Mumbai into a major seaport on the Arabian Sea. Mumbai in the 19th century was characterized by economic and educational development. During the early 20th century it became a strong base for the Indian independence movement. Upon India's independence in 1947 the city was incorporated into Bombay State. In 1960, following the Samyukta Maharashtra Movement, a new state of Maharashtra was created with\"\n        ],\n        \"semantic_type\": \"\",\n        \"description\": \"\"\n      }\n    }\n  ]\n}"
            }
          },
          "metadata": {},
          "execution_count": 7
        }
      ]
    },
    {
      "cell_type": "markdown",
      "source": [
        "On observe que malgré le fait de nous être restreints à 10 articles, nous avons déjà plusieurs centaines de documents.\n",
        "\n",
        "## Indexation et classement\n",
        "\n",
        "La prochaine étape consiste à indexer les documents. On rappelle que cette étape a deux buts :\n",
        "- Affecter à chaque document un **index**, c'est-à-dure une donnée numérique que l'on peut comparer aux autres\n",
        "- Permettre de stocker une grande quantité de données de manière **efficace** (il doit être facile de chercher dans les données, ainsi que de retrouver à quel document correspond un embedding).\n",
        "\n",
        "\n"
      ],
      "metadata": {
        "id": "jXkUYd-BYqZW"
      }
    },
    {
      "cell_type": "code",
      "source": [
        "# Chargement du modèle encodeur\n",
        "embedding_model = HuggingFaceEmbeddings(model_name=embedding_model_name)"
      ],
      "metadata": {
        "id": "mHsj8TlCd506",
        "colab": {
          "base_uri": "https://localhost:8080/"
        },
        "outputId": "db3ffa4f-277d-4146-9137-c51799c91b10"
      },
      "execution_count": null,
      "outputs": [
        {
          "output_type": "stream",
          "name": "stderr",
          "text": [
            "<ipython-input-8-682958750292>:2: LangChainDeprecationWarning: The class `HuggingFaceEmbeddings` was deprecated in LangChain 0.2.2 and will be removed in 1.0. An updated version of the class exists in the :class:`~langchain-huggingface package and should be used instead. To use it run `pip install -U :class:`~langchain-huggingface` and import as `from :class:`~langchain_huggingface import HuggingFaceEmbeddings``.\n",
            "  embedding_model = HuggingFaceEmbeddings(model_name=embedding_model_name)\n"
          ]
        }
      ]
    },
    {
      "cell_type": "markdown",
      "source": [
        "#### Approche manuelle/naïve\n",
        "\n",
        "Cette sous-section est donnée à titre pédagogique; nous verrons ensuite comment utiliser une bibliothèque pour effectuer tout cela à notre place.\n",
        "\n",
        "Nous allons ici simplement créer une liste de paires `(embedding, document)`."
      ],
      "metadata": {
        "id": "Bi382Vmtd4Vl"
      }
    },
    {
      "cell_type": "code",
      "source": [
        "# 3. Indexation (manuelle)\n",
        "indexed_docs = [] # Création d'une liste vide pour stocker les documents indexés\n",
        "for doc in tqdm(docs_processed): # Itération sur chaque document dans la liste 'docs_processed', avec une barre de progression\n",
        "    indexed_docs.append((embedding_model.embed_documents([doc.page_content])[0], doc)) # On crée un tuple contenant l'embedding du document et le document lui-même, puis on l'ajoute à la liste 'indexed_docs'"
      ],
      "metadata": {
        "id": "ew7jg8mubM3I",
        "colab": {
          "base_uri": "https://localhost:8080/"
        },
        "outputId": "5068f73b-259f-4e6f-f117-2beae773812a"
      },
      "execution_count": null,
      "outputs": [
        {
          "output_type": "stream",
          "name": "stderr",
          "text": [
            "100%|██████████| 592/592 [03:19<00:00,  2.97it/s]\n"
          ]
        }
      ]
    },
    {
      "cell_type": "markdown",
      "source": [
        "Une fois cela fait, on peut classer les documents en mesurant leur distance par rapport à une requête donnée. La mesure de distance la plus courante est l'inverse de la similarité cosinus, qui évalue à quel point deux vecteurs d'embeddings sont alignés dans l'espace.\n",
        "\n",
        "Un test sur une requête d'exemple, afin de voir les documents correspondant le mieux à cette requête :"
      ],
      "metadata": {
        "id": "hr2Oz8GQfoko"
      }
    },
    {
      "cell_type": "code",
      "source": [
        "# 4. Classement (manuel)\n",
        "query = \"percentage of Christians in Mumbai\"\n",
        "query_embeddings = embedding_model.embed_documents([query])[0]  # Génération de l'embedding de la requête\n",
        "\n",
        "# Définition d'une fonction pour calculer la distance entre deux embeddings\n",
        "# La distance utilisée ici est l'inverse de la similarité cosinus\n",
        "def embedding_distance(a, b):\n",
        "    return 1 - np.dot(a, b) / (np.linalg.norm(a) * np.linalg.norm(b))\n",
        "\n",
        "# Calcul de la distance de la requête à chaque document\n",
        "sorted_docs = []\n",
        "for doc in indexed_docs:\n",
        "    dist = embedding_distance(query_embeddings, doc[0]) # Calcul de la distance entre l'embedding de la requête et l'embedding du document\n",
        "    sorted_docs.append((dist, doc[1]))\n",
        "\n",
        "# Affichage des trois documents les plus proches\n",
        "sorted_docs.sort(key=lambda doc: doc[0]) # Tri des documents par distance croissante (les documents les plus pertinents en premier)\n",
        "for dist, text in sorted_docs[:5]:\n",
        "    print(f\"================ Distance : {dist} ================\")\n",
        "    print(f\"{text.page_content}\")\n",
        "    print()\n",
        "    print()\n",
        "    print()"
      ],
      "metadata": {
        "id": "SuadDtAEa5TQ",
        "colab": {
          "base_uri": "https://localhost:8080/"
        },
        "outputId": "e8ab5056-38a7-4901-9d7a-0f31cf2a7d19"
      },
      "execution_count": null,
      "outputs": [
        {
          "output_type": "stream",
          "name": "stdout",
          "text": [
            "================ Distance : 0.07230691686026969 ================\n",
            "=== Ethnic groups and religions ===\n",
            "\n",
            "The religious groups represented in Greater Mumbai as of 2011 include Hindus (65.99%), Muslims (20.65%), Buddhists (4.85%), Jains (4.10%), Christians (3.27%) and Sikhs (0.49%). The linguistic/ethnic demographics in the Greater Mumbai Area are: Maharashtrians (32%), Gujaratis (20%), with the rest hailing from other parts of India.Native Christians include East Indian Catholics, who were converted by the Portuguese during the 16th century, while Goan and Mangalorean Catholics also constitute a significant portion of the Christian community of the city. Jews settled in Mumbai during the 18th century. The Bene Israeli Jewish community of Mumbai, who migrated from the Konkan villages, south of Mumbai, are believed to be the descendants of the Jews of Israel who were shipwrecked off the Konkan coast, probably in the year 175 BCE, during the reign of the Greek ruler, Antiochus IV Epiphanes. Mumbai is also home to the largest population of Parsi Zoroastrians in the world, numbering about 60,000, however their population is declining rapidly. Parsis migrated to India from Greater Iran following the Muslim conquest of Persia in the seventh century. The oldest Muslim communities in Mumbai include the Dawoodi Bohras, Ismaili Khojas, and Konkani Muslims.\n",
            "\n",
            "\n",
            "=== Language ===\n",
            "\n",
            "\n",
            "\n",
            "================ Distance : 0.12022674254239474 ================\n",
            "=== Religions ===\n",
            "Hinduism is Delhi's predominant religious faith, with 81.68% of Delhi's population, followed by Islam (12.86%), Sikhism (3.40%), Jainism (0.99%), Christianity (0.87%), and Buddhism (0.11%). Other minority religions include Zoroastrianism, Baháʼísm and Judaism.\n",
            "\n",
            "\n",
            "=== Languages ===\n",
            "According to the 50th report of the commissioner for linguistic minorities in India, which was submitted in 2014, Hindi is Delhi's most spoken language, with 80.94% speakers, followed by Punjabi (7.14%), Urdu (6.31%) and Bengali (1.50%). 4.11% of Delhites speak other languages. Hindi is also the official language of Delhi while Urdu and Punjabi have been declared as additional official languages.\n",
            "\n",
            "\n",
            "== Culture ==\n",
            "\n",
            "\n",
            "\n",
            "================ Distance : 0.12154959009282607 ================\n",
            "According to the 2011 census, the population of Mumbai city was 12,479,608. The population density is estimated to be about 20,482 persons per square kilometre. The living space is 4.5 square metres per person. Mumbai Metropolitan Region was home to 20,748,395 people by 2011. Greater Mumbai, the area under the administration of the MCGM, has a literacy rate of 94.7%, higher than the national average of 86.7%. The number of slum-dwellers in the Mumbai Metropolitan Region is estimated to be 90 lakh (9 million), up from 60 lakh (6 million) in 2001 which constitutes approximately 38.5% of the region.The sex ratio in 2011 was 838 females per 1,000 males in the island city, 857 in the suburbs, and 848 as a whole in Greater Mumbai, all numbers lower than the national average of 914 females per 1,000 males. The low sex ratio is partly because of the large number of male migrants who come to the city to work.Residents of Mumbai call themselves Mumbaikar, Mumbaiite, Bombayite or Bombaiite.\n",
            "\n",
            "\n",
            "\n",
            "================ Distance : 0.12225044735110868 ================\n",
            "=== Religion ===\n",
            "\n",
            "In 2022, Jakarta's religious composition was distributed over Islam (83.87%), Protestantism (8.57%), Catholicism (3.89%), Buddhism (3.48%), Hinduism (0.18%), Confucianism (0.016%), and about 0.004% of population claimed to follow folk religions.Most pesantren (Islamic boarding schools) in Jakarta are affiliated with the traditionalist Nahdlatul Ulama, modernist organisations mostly catering to a socioeconomic class of educated urban elites and merchant traders. They give priority to education, social welfare programs and religious propagation. Many Islamic organisations have headquarters in Jakarta, including Nahdlatul Ulama, Indonesian Ulema Council, Muhammadiyah, Indonesia Institute of Islamic Dawah, and Jaringan Islam Liberal.\n",
            "The Roman Catholic community has a Metropolis, the Archdiocese of Jakarta that includes West Java and Banten provinces as part of the ecclesiastical province. Jakarta also hosts the largest Buddhist adherents in Java Island, where most of the followers are the Chinese. Schools of Buddhism practiced in Indonesia vary, including Theravāda, Mahāyāna, Vajrayana, and Tridharma. The city also has Hindu community, which mainly are from Balinese and Indian people. There is also a Sikh and Baháʼí Faith community presence in Jakarta.\n",
            "\n",
            "\n",
            "=== Education ===\n",
            "\n",
            "\n",
            "\n",
            "================ Distance : 0.12956444816131174 ================\n",
            "is estimated that there are more than one hundred thousand Buddhist and Hindu followers each. Also considerable are Judaism, Mormonism and Afro-Brazilian religions.According to data from the Brazilian Institute of Geography and Statistics (IBGE), in 2010 the population of São Paulo was 6,549,775 Roman Catholics (58.2%), 2,887,810 Protestants (22.1%), 531,822 Spiritists (4.7%), 101,493 Jehovah's Witnesses (0.9%), 75,075 Buddhists (0.7%), 50,794 Umbandists (0.5%), 43,610 Jews (0.4%), 28,673 Catholic Apostolic Brazilians (0.3%), 25,583 eastern religious (0.2%), 18,058 Candomblecists\n",
            "\n",
            "\n",
            "\n"
          ]
        }
      ]
    },
    {
      "cell_type": "markdown",
      "source": [
        "#### Approche pratique\n",
        "\n",
        "En pratique, les documents indexés sont stockés dans des [**bases de données vectorielles**](https://en.wikipedia.org/wiki/Vector_database), aussi appelées *vector stores*. Celles-ci sont très efficace et permettent de stocker des quantités énormes de données. Lors de l'indexation, certains pré-calculs sont déjà effectués afin d'accélérer la partie recherche : en effet, il serait impraticable de devoir calculer la distance entre une requête et chacun des documents de la collection, qui peut en contenir des dizaines de millions.\n",
        "\n",
        "Nous utiliserons ici la bibliothèque [FAISS](https://arxiv.org/abs/2401.08281).\n"
      ],
      "metadata": {
        "id": "nJGWD94Ea2vN"
      }
    },
    {
      "cell_type": "code",
      "source": [
        "# Le bloc ci-dessous peut être entièrement remplacé par une seule ligne, la suivante :\n",
        "#\n",
        "# vectordb = FAISS.from_documents(docs_processed, embedding=embedding_model, distance_strategy='cosine') #Cette ligne de code crée un index de recherche FAISS\n",
        "#à partir d'une liste de documents docs_processed en utilisant le modèle d'intégration embedding_model et la stratégie de distance cosinus pour la similarité sémantique.\n",
        "\n",
        "\n",
        "\n",
        "#\n",
        "# Cependant, par défaut, FAISS n'affiche pas l'avancement des calculs.\n",
        "# Comme cette tâche prend quelques minutes, nous utilisons ici la bibliothèque tqdm\n",
        "# pour afficher une barre de progression.\n",
        "\n",
        "# 3. Indexation et classement (efficace)\n",
        "vectordb = None # la variable vectordb à None, elle contiendra la base de données vectorielle après l'indexation.\n",
        "with tqdm(total=len(docs_processed), desc=\"Création de l'index\") as pbar:  # Utilisation de tqdm pour afficher une barre\n",
        "    for d in docs_processed:\n",
        "        if vectordb:\n",
        "            vectordb.add_documents([d]) # Si la base vectordb existe déjà, le document actuel est ajouté à la base.\n",
        "        else:\n",
        "            # On crée la base de données en lui passant notre modèle d'embeddings ainsi que la métrique de classement voulu,\n",
        "            # à savoir ici la distance cosinus\n",
        "            vectordb = FAISS.from_documents([d], embedding=embedding_model, distance_strategy='cosine')\n",
        "        pbar.update(1)\n"
      ],
      "metadata": {
        "id": "lSCPdLAyhCAp",
        "colab": {
          "base_uri": "https://localhost:8080/"
        },
        "outputId": "175990ce-d764-4001-e695-e68834cb1dfa"
      },
      "execution_count": null,
      "outputs": [
        {
          "output_type": "stream",
          "name": "stderr",
          "text": [
            "Création de l'index: 100%|██████████| 592/592 [03:36<00:00,  2.73it/s]\n"
          ]
        }
      ]
    },
    {
      "cell_type": "markdown",
      "source": [
        "La recherche des documents les plus proches de notre requête ci-dessus peut désormais être effectuée quasi-instantanément :"
      ],
      "metadata": {
        "id": "sL3A7QI7i651"
      }
    },
    {
      "cell_type": "code",
      "source": [
        "sorted_docs = vectordb.similarity_search(query, k=5)\n",
        "\n",
        "for doc in sorted_docs:\n",
        "    print('=' * 100)\n",
        "    print(doc.page_content)"
      ],
      "metadata": {
        "id": "rBseiME3izIX",
        "colab": {
          "base_uri": "https://localhost:8080/"
        },
        "outputId": "f2eb62d9-5bbd-4887-9213-e8572fd87a3d"
      },
      "execution_count": null,
      "outputs": [
        {
          "output_type": "stream",
          "name": "stdout",
          "text": [
            "====================================================================================================\n",
            "=== Ethnic groups and religions ===\n",
            "\n",
            "The religious groups represented in Greater Mumbai as of 2011 include Hindus (65.99%), Muslims (20.65%), Buddhists (4.85%), Jains (4.10%), Christians (3.27%) and Sikhs (0.49%). The linguistic/ethnic demographics in the Greater Mumbai Area are: Maharashtrians (32%), Gujaratis (20%), with the rest hailing from other parts of India.Native Christians include East Indian Catholics, who were converted by the Portuguese during the 16th century, while Goan and Mangalorean Catholics also constitute a significant portion of the Christian community of the city. Jews settled in Mumbai during the 18th century. The Bene Israeli Jewish community of Mumbai, who migrated from the Konkan villages, south of Mumbai, are believed to be the descendants of the Jews of Israel who were shipwrecked off the Konkan coast, probably in the year 175 BCE, during the reign of the Greek ruler, Antiochus IV Epiphanes. Mumbai is also home to the largest population of Parsi Zoroastrians in the world, numbering about 60,000, however their population is declining rapidly. Parsis migrated to India from Greater Iran following the Muslim conquest of Persia in the seventh century. The oldest Muslim communities in Mumbai include the Dawoodi Bohras, Ismaili Khojas, and Konkani Muslims.\n",
            "\n",
            "\n",
            "=== Language ===\n",
            "====================================================================================================\n",
            "=== Religions ===\n",
            "Hinduism is Delhi's predominant religious faith, with 81.68% of Delhi's population, followed by Islam (12.86%), Sikhism (3.40%), Jainism (0.99%), Christianity (0.87%), and Buddhism (0.11%). Other minority religions include Zoroastrianism, Baháʼísm and Judaism.\n",
            "\n",
            "\n",
            "=== Languages ===\n",
            "According to the 50th report of the commissioner for linguistic minorities in India, which was submitted in 2014, Hindi is Delhi's most spoken language, with 80.94% speakers, followed by Punjabi (7.14%), Urdu (6.31%) and Bengali (1.50%). 4.11% of Delhites speak other languages. Hindi is also the official language of Delhi while Urdu and Punjabi have been declared as additional official languages.\n",
            "\n",
            "\n",
            "== Culture ==\n",
            "====================================================================================================\n",
            "According to the 2011 census, the population of Mumbai city was 12,479,608. The population density is estimated to be about 20,482 persons per square kilometre. The living space is 4.5 square metres per person. Mumbai Metropolitan Region was home to 20,748,395 people by 2011. Greater Mumbai, the area under the administration of the MCGM, has a literacy rate of 94.7%, higher than the national average of 86.7%. The number of slum-dwellers in the Mumbai Metropolitan Region is estimated to be 90 lakh (9 million), up from 60 lakh (6 million) in 2001 which constitutes approximately 38.5% of the region.The sex ratio in 2011 was 838 females per 1,000 males in the island city, 857 in the suburbs, and 848 as a whole in Greater Mumbai, all numbers lower than the national average of 914 females per 1,000 males. The low sex ratio is partly because of the large number of male migrants who come to the city to work.Residents of Mumbai call themselves Mumbaikar, Mumbaiite, Bombayite or Bombaiite.\n",
            "====================================================================================================\n",
            "=== Religion ===\n",
            "\n",
            "In 2022, Jakarta's religious composition was distributed over Islam (83.87%), Protestantism (8.57%), Catholicism (3.89%), Buddhism (3.48%), Hinduism (0.18%), Confucianism (0.016%), and about 0.004% of population claimed to follow folk religions.Most pesantren (Islamic boarding schools) in Jakarta are affiliated with the traditionalist Nahdlatul Ulama, modernist organisations mostly catering to a socioeconomic class of educated urban elites and merchant traders. They give priority to education, social welfare programs and religious propagation. Many Islamic organisations have headquarters in Jakarta, including Nahdlatul Ulama, Indonesian Ulema Council, Muhammadiyah, Indonesia Institute of Islamic Dawah, and Jaringan Islam Liberal.\n",
            "The Roman Catholic community has a Metropolis, the Archdiocese of Jakarta that includes West Java and Banten provinces as part of the ecclesiastical province. Jakarta also hosts the largest Buddhist adherents in Java Island, where most of the followers are the Chinese. Schools of Buddhism practiced in Indonesia vary, including Theravāda, Mahāyāna, Vajrayana, and Tridharma. The city also has Hindu community, which mainly are from Balinese and Indian people. There is also a Sikh and Baháʼí Faith community presence in Jakarta.\n",
            "\n",
            "\n",
            "=== Education ===\n",
            "====================================================================================================\n",
            "is estimated that there are more than one hundred thousand Buddhist and Hindu followers each. Also considerable are Judaism, Mormonism and Afro-Brazilian religions.According to data from the Brazilian Institute of Geography and Statistics (IBGE), in 2010 the population of São Paulo was 6,549,775 Roman Catholics (58.2%), 2,887,810 Protestants (22.1%), 531,822 Spiritists (4.7%), 101,493 Jehovah's Witnesses (0.9%), 75,075 Buddhists (0.7%), 50,794 Umbandists (0.5%), 43,610 Jews (0.4%), 28,673 Catholic Apostolic Brazilians (0.3%), 25,583 eastern religious (0.2%), 18,058 Candomblecists\n"
          ]
        }
      ]
    },
    {
      "cell_type": "markdown",
      "source": [
        "Pour le reste du TP, on utilisera désormais une base de données pré-chargée; elle a été créée excatement de la même manière que celle que vous venez de réaliser, mais celle-ci indexe les sous-documents correspondant aux 3 000 premiers articles du jeu de données (contrairement à nos 10). De plus, elle utilise des paramètres de découpage différents (documents de 1024 caractères, avec 100 caractères de chevauchement), soit un total de 18 081 sous-documents."
      ],
      "metadata": {
        "id": "eVDLNtJjjS38"
      }
    },
    {
      "cell_type": "code",
      "source": [
        "# Chargement de la base de données pré-enregistrée\n",
        "!gdown 1bBDiCmbo2aL1ZL50T7bLc12CS94vc9R8\n",
        "!mkdir faiss_index\n",
        "!unzip index -d faiss_index\n",
        "vectordb = FAISS.load_local(\"faiss_index\", embedding_model, allow_dangerous_deserialization=True)\n",
        "\n",
        "# Note : Une base de données peut également être enregistrée sur le disque, de manière suivante :\n",
        "# vectordb.save_local(\"faiss_index\")\n",
        "\n",
        "#Ce code télécharge, extrait et charge un index FAISS pré-pré-chargéé pour permettre des recherches rapides dans une base de données vectorielle."
      ],
      "metadata": {
        "id": "-CfiZJtttmRp",
        "colab": {
          "base_uri": "https://localhost:8080/"
        },
        "outputId": "be1c3061-cfb1-49f8-db60-e5b950e1c509"
      },
      "execution_count": null,
      "outputs": [
        {
          "output_type": "stream",
          "name": "stdout",
          "text": [
            "Downloading...\n",
            "From (original): https://drive.google.com/uc?id=1bBDiCmbo2aL1ZL50T7bLc12CS94vc9R8\n",
            "From (redirected): https://drive.google.com/uc?id=1bBDiCmbo2aL1ZL50T7bLc12CS94vc9R8&confirm=t&uuid=36b7cc88-2732-49f9-85e5-5db17622385a\n",
            "To: /content/index.zip\n",
            "100% 49.2M/49.2M [00:00<00:00, 256MB/s]\n",
            "mkdir: cannot create directory ‘faiss_index’: File exists\n",
            "Archive:  index.zip\n",
            "replace faiss_index/index.pkl? [y]es, [n]o, [A]ll, [N]one, [r]ename: y\n",
            "  inflating: faiss_index/index.pkl   \n",
            "replace faiss_index/index.faiss? [y]es, [n]o, [A]ll, [N]one, [r]ename: y\n",
            "  inflating: faiss_index/index.faiss  \n"
          ]
        }
      ]
    },
    {
      "cell_type": "markdown",
      "source": [
        "## Génération\n",
        "\n",
        "Pour la partie génération de texte, nous aurons besoin d'un LLM. Nous utiliserons ici Qwen2.5-72B-Instruct, un très gros modèle de 72 milliards de paramètres créé par Alibaba Cloud.\n",
        "\n",
        "De plus, nous utiliserons la classe `HfApiEngine`, qui permet une utilisation encore plus simplifiée des LLM. Cette classe utilise en effet les paramètres de génération par défaut correspondant au LLM visé.\n"
      ],
      "metadata": {
        "id": "Ymmkgs19rscI"
      }
    },
    {
      "cell_type": "code",
      "source": [
        "# TODO : Remplacer la valeur ci-dessous par votre token d'API.\n",
        "# Si vous n'y avès plus accès, vous pouvez le régénérer ou en créer un nouveau\n",
        "# sur la page correspondante (https://huggingface.co/settings/tokens)\n",
        "api_token = \"hf_\"\n",
        "\n",
        "# Note : L'utilisation d'un token d'API gratuit ne permet normalement pas\n",
        "# d'accèder à des modèles de plus de 10 milliards de paramètres.\n",
        "# Si la ligne ci-dessous ne fonctionne pas, modifiez le nom du modèle\n",
        "# en utilisant par exemple \"meta-llama/Meta-Llama-3-8B-Instruct\" comme au TP précédent.\n",
        "llm_engine = HfApiEngine(model=\"Qwen/Qwen2.5-72B-Instruct\", token=api_token)\n",
        "\n",
        "messages = [\n",
        "    {\"role\": \"user\", \"content\": \"Hello, how are you?\"},\n",
        "]\n",
        "\n",
        "llm_engine(messages)"
      ],
      "metadata": {
        "id": "Rt5t5IUEHu9I",
        "colab": {
          "base_uri": "https://localhost:8080/",
          "height": 35
        },
        "outputId": "a7408631-32a9-4a2e-8f87-ad3338776b03"
      },
      "execution_count": null,
      "outputs": [
        {
          "output_type": "execute_result",
          "data": {
            "text/plain": [
              "\"Hello! I'm doing well, thank you for asking. How about you? How can I assist you today?\""
            ],
            "application/vnd.google.colaboratory.intrinsic+json": {
              "type": "string"
            }
          },
          "metadata": {},
          "execution_count": 14
        }
      ]
    },
    {
      "cell_type": "markdown",
      "source": [
        "Nous sommes désormais en possession de la requête utilisateur (`query`) ainsi que des trois documents les plus proches (`sorted_docs`). Il ne nous reste plus qu'à passer tous ces éléments au LLM afin qu'il génère une réponse pertinente."
      ],
      "metadata": {
        "id": "o7WD7NkIwJf9"
      }
    },
    {
      "cell_type": "code",
      "source": [
        "sorted_docs[0]"
      ],
      "metadata": {
        "id": "IdO9GvcOyXXv",
        "colab": {
          "base_uri": "https://localhost:8080/"
        },
        "outputId": "5986cbd0-0348-4ced-b76c-8a974d623b97"
      },
      "execution_count": null,
      "outputs": [
        {
          "output_type": "execute_result",
          "data": {
            "text/plain": [
              "Document(metadata={'source': 'Wikipedia - Mumbai', 'start_index': 48013}, page_content='=== Ethnic groups and religions ===\\n\\nThe religious groups represented in Greater Mumbai as of 2011 include Hindus (65.99%), Muslims (20.65%), Buddhists (4.85%), Jains (4.10%), Christians (3.27%) and Sikhs (0.49%). The linguistic/ethnic demographics in the Greater Mumbai Area are: Maharashtrians (32%), Gujaratis (20%), with the rest hailing from other parts of India.Native Christians include East Indian Catholics, who were converted by the Portuguese during the 16th century, while Goan and Mangalorean Catholics also constitute a significant portion of the Christian community of the city. Jews settled in Mumbai during the 18th century. The Bene Israeli Jewish community of Mumbai, who migrated from the Konkan villages, south of Mumbai, are believed to be the descendants of the Jews of Israel who were shipwrecked off the Konkan coast, probably in the year 175 BCE, during the reign of the Greek ruler, Antiochus IV Epiphanes. Mumbai is also home to the largest population of Parsi Zoroastrians in the world, numbering about 60,000, however their population is declining rapidly. Parsis migrated to India from Greater Iran following the Muslim conquest of Persia in the seventh century. The oldest Muslim communities in Mumbai include the Dawoodi Bohras, Ismaili Khojas, and Konkani Muslims.\\n\\n\\n=== Language ===')"
            ]
          },
          "metadata": {},
          "execution_count": 15
        }
      ]
    },
    {
      "cell_type": "code",
      "source": [
        "# 4. Génération\n",
        "\n",
        "# TODO : Écrivez un prompt indiquant au LLM qu'il doit répondre à la requête de l'utilisateur,\n",
        "# en pouvant éventuellement s'aider des cinq documents de contexte.\n",
        "# L'exécution de cette cellule de code doit produire une réponse textuelle contenant la solution à la requête.\n",
        "#\n",
        "# Vous pouvez utiliser les variables de formatage suivantes :\n",
        "# {query} - sera remplacé par la requête de l'utilisateur\n",
        "# {doc1}, {doc2}, ..., {doc5} - sera remplacé par le texte des cinq documents les plus proches de la requête\n",
        "# {src1}, {src2}, ..., {src5} - sera remplacé par la source des cinq documents les plus proches de la requête\n",
        "sorted_docs = vectordb.similarity_search(query, k=5)\n",
        "query = \"C'est quoi la population de Paris?\"\n",
        "prompt = \"\"\"Répondre à la question de l'utilisateur en utilisant le contexte fourni. \\\n",
        "Si la réponse ne se trouve pas dans le contexte, répondre par \"Je suis désolé, \\\n",
        "je n'ai pas assez d'informations pour répondre à votre question.\"\n",
        "\n",
        "**Question de l'utilisateur :** {query}\n",
        "\n",
        "**Contexte disponible :**\n",
        "\n",
        "{doc1} (Source : {src1})\n",
        "{doc2} (Source : {src2})\n",
        "{doc3} (Source : {src3})\n",
        "{doc4} (Source : {src4})\n",
        "{doc5} (Source : {src5})\n",
        "\"\"\"\n",
        "\n",
        "doc1, doc2, doc3, doc4, doc5 = [doc.page_content for doc in sorted_docs[:5]]\n",
        "src1, src2, src3, src4, src5 = [doc.metadata['source'] for doc in sorted_docs[:5]]\n",
        "messages = [\n",
        "    {\"role\": \"user\", \"content\": prompt.format(query=query,\n",
        "                                              doc1=doc1, doc2=doc2, doc3=doc3, doc4=doc4, doc5=doc5,\n",
        "                                              src1=src1, src2=src2, src3=src3, src4=src4, src5=src5)},\n",
        "]\n",
        "\n",
        "print(llm_engine(messages))"
      ],
      "metadata": {
        "id": "Les_yNBSwHSr",
        "colab": {
          "base_uri": "https://localhost:8080/"
        },
        "outputId": "151bcd0b-9a82-4e9d-d1b0-d0c20b6bc3dd"
      },
      "execution_count": null,
      "outputs": [
        {
          "output_type": "stream",
          "name": "stdout",
          "text": [
            "La population officielle estimée de Paris au 1er janvier 2023 était de 2,102,650 habitants, selon l'INSEE, l'agence statistique officielle de la France.\n"
          ]
        }
      ]
    },
    {
      "cell_type": "code",
      "source": [
        "sorted_docs"
      ],
      "metadata": {
        "colab": {
          "base_uri": "https://localhost:8080/"
        },
        "id": "mpz3T7NGh7XD",
        "outputId": "fa1329ce-b6e9-47ca-b819-0f8adf7d2328"
      },
      "execution_count": null,
      "outputs": [
        {
          "output_type": "execute_result",
          "data": {
            "text/plain": [
              "[Document(metadata={'source': 'Wikipedia - Paris', 'start_index': 38070}, page_content='== Demographics ==\\n\\nThe official estimated population of the City of Paris on 1 January 1, 2023 was 2,102,650, down from 2,165,423 on 1 January 2022, according to the INSEE, the official French statistical agency. According to INSEE, the population has dropped by 122,919, or about five percent, over the past decade. The Mayor of Paris, Anne Hidalgo, declared that this illustrated the \"de-densification\" of the city, creating more green space and less crowding. Despite the drop, Paris remains the most densely-populated city in Europe, with 252 residents per hectare, not counting parks. This drop was attributed partly to a lower birth rate, the departure of middle-class residents and the possible loss of housing in the city due to short-term rentals for tourism.Paris is the fourth largest municipality in the European Union, following Berlin, Madrid and Rome. Eurostat places Paris (6.5 million people) behind London (8 million) and ahead of Berlin (3.5 million), based on the 2012 populations of what Eurostat calls \"urban audit core cities\".\\nThe population of Paris today is lower than its historical peak of 2.9 million in 1921. The principal reasons were a significant decline in household size, and a dramatic migration of residents to the suburbs between 1962 and 1975. Factors in the migration included de-industrialisation, high rent, the gentrification of many inner quarters, the transformation of living space into offices, and greater affluence among working families. The city\\'s population loss came to a temporary halt at the beginning of the 21st century; the population increased from 2,125,246 in 1999 to 2,240,621 in 2012, before declining again slightly in 2017, 2018, and again in 2021.Paris is the core of a built-up area that extends well beyond its limits: commonly referred to as the agglomération Parisienne, and statistically as a unité urbaine (a measure of urban area), the Paris agglomeration\\'s population of 10,785,092 in 2017 made it the largest urban area in the European Union. City-influenced commuter activity reaches well beyond even this in a statistical aire d\\'attraction de Paris (\"functional area\", a statistical method comparable to a metropolitan area), that had a population of 13,024,518 in 2017, 19.6% of the population of France, and the largest metropolitan area in the Eurozone.According to Eurostat, the EU statistical agency, in 2012 the Commune of Paris was the most densely populated city in the European Union, with 21,616 people per square kilometre within the city limits (the NUTS-3 statistical area), ahead of Inner London West, which had 10,374 people per square kilometre. According to the same census, three departments bordering Paris, Hauts-de-Seine, Seine-Saint-Denis and Val-de-Marne, had population densities of over 10,000 people per square kilometre, ranking among the 10 most densely populated areas of the EU.\\n\\n\\n=== Migration ===\\nUnder French law, people born in foreign countries with no French citizenship at birth are defined as immigrants. According to the 2012 census, 135,853 residents of the City of Paris were immigrants from Europe, 112,369 were immigrants from the Maghreb, 70,852 from sub-Saharan Africa and Egypt, 5,059 from Turkey, 91,297 from Asia (outside Turkey), 38,858 from the Americas, and 1,365 from the South Pacific.In the Paris Region, 590,504 residents were immigrants from Europe, 627,078 were immigrants from the Maghreb, 435,339 from sub-Saharan Africa and Egypt, 69,338 from Turkey, 322,330 from Asia (outside Turkey), 113,363 from the Americas, and 2,261 from the South Pacific.In 2012, there were 8,810 British citizens and 10,019 United States citizens living in the City of Paris (Ville de Paris) and 20,466 British citizens and 16,408 United States citizens living in the entire Paris Region (Île-de-France).In 2020–2021, about 6 million people, or 41% of the population of the Paris Region, were either immigrants (21%) or had at least one immigrant parent (20%); these figures do not include French people born in Overseas France and their direct descendants.\\n\\n\\n=== Religion ==='),\n",
              " Document(metadata={'source': 'Wikipedia - Paris', 'start_index': 0}, page_content=\"Paris (French pronunciation: [paʁi] ) is the capital and most populous city of France. With an official estimated population of 2,102,650 residents as of 1 January 2023 in an area of more than 105 km2 (41 sq mi), Paris is the fourth-most populated city in the European Union and the 30th most densely populated city in the world in 2022. Since the 17th century, Paris has been one of the world's major centres of finance, diplomacy, commerce, culture, fashion, and gastronomy. For its leading role in the arts and sciences, as well as its early and extensive system of street lighting, in the 19th century, it became known as the City of Light.The City of Paris is the centre of the Île-de-France region, or Paris Region, with an official estimated population of 12,271,794 inhabitants on 1 January 2023, or about 19% of the population of France. The Paris Region had a GDP of €765 billion (US$1.064 trillion, PPP) in 2021, the highest in the European Union. According to the Economist Intelligence Unit Worldwide Cost of Living Survey, in 2022, Paris was the city with the ninth-highest cost of living in the world.Paris is a major railway, highway, and air-transport hub served by two international airports: Charles de Gaulle Airport (the third-busiest airport in Europe) and Orly Airport. Opened in 1900, the city's subway system, the Paris Métro, serves 5.23 million passengers daily; it is the second-busiest metro system in Europe after the Moscow Metro. Gare du Nord is the 24th-busiest railway station in the world and the busiest outside Japan, with 262 million passengers in 2015. Paris has one of the most sustainable transportation systems and is one of the only two cities in the world that received the Sustainable Transport Award twice.Paris is especially known for its museums and architectural landmarks: the Louvre received 8.9. million visitors in 2023, on track for keeping its position as the most-visited art museum in the world. The Musée d'Orsay, Musée Marmottan Monet and Musée de l'Orangerie are noted for their collections of French Impressionist art. The Pompidou Centre Musée National d'Art Moderne, Musée Rodin and Musée Picasso are noted for their collections of modern and contemporary art. The historical district along the Seine in the city centre has been classified as a UNESCO World Heritage Site since 1991.Paris hosts several United Nations organizations including UNESCO, and other international organizations such as the OECD, the OECD Development Centre, the International Bureau of Weights and Measures, the International Energy Agency, the International Federation for Human Rights, along with European bodies such as the European Space Agency, the European Banking Authority and the European Securities and Markets Authority. The football club Paris Saint-Germain and the rugby union club Stade Français are based in Paris. The 81,000-seat Stade de France, built for the 1998 FIFA World Cup, is located just north of Paris in the neighbouring commune of Saint-Denis. Paris hosts the annual French Open Grand Slam tennis tournament on the red clay of Roland Garros. The city hosted the Olympic Games in 1900 and 1924, and will host the 2024 Summer Olympics. The 1938 and 1998 FIFA World Cups, the 2019 FIFA Women's World Cup, the 2007 Rugby World Cup, as well as the 1960, 1984 and 2016 UEFA European Championships were also held in the city. Every July, the Tour de France bicycle race finishes on the Avenue des Champs-Élysées in Paris.\\n\\n\\n== Etymology ==\"),\n",
              " Document(metadata={'source': 'Wikipedia - Paris', 'start_index': 20960}, page_content=\"== Geography ==\\n\\n\\n=== Location ===\\n\\nParis is located in northern central France, in a north-bending arc of the river Seine whose crest includes two islands, the Île Saint-Louis and the larger Île de la Cité, which form the oldest part of the city. The river's mouth on the English Channel (La Manche) is about 233 mi (375 km) downstream from the city. The city is spread widely on both banks of the river. Overall, the city is relatively flat, and the lowest point is 35 m (115 ft) above sea level. Paris has several prominent hills, the highest of which is Montmartre at 130 m (427 ft).Excluding the outlying parks of Bois de Boulogne and Bois de Vincennes, Paris covers an oval measuring about 87 km2 (34 sq mi) in area, enclosed by the 35 km (22 mi) ring road, the Boulevard Périphérique. The city's last major annexation of outlying territories in 1860 not only gave it its modern form but also created the 20 clockwise-spiralling arrondissements (municipal boroughs). From the 1860 area of 78 km2 (30 sq mi), the city limits were expanded marginally to 86.9 km2 (33.6 sq mi) in the 1920s. In 1929, the Bois de Boulogne and Bois de Vincennes forest parks were officially annexed to the city, bringing its area to about 105 km2 (41 sq mi). The metropolitan area is 2,300 km2 (890 sq mi).Measured from the 'point zero' in front of its Notre-Dame cathedral, Paris by road is 450 km (280 mi) southeast of London, 287 km (178 mi) south of Calais, 305 km (190 mi) southwest of Brussels, 774 km (481 mi) north of Marseille, 385 km (239 mi) northeast of Nantes, and 135 km (84 mi) southeast of Rouen.\\n\\n\\n=== Climate ===\\n\\nAccording to the Köppen climate classification, Paris has an oceanic climate, typical of western Europe. This climate type features cool winters that have frequent rain and overcast skies, and mild to warm summers. Very hot and very cold temperatures and weather extremes are rare in this type of climate.Summer days are usually mild and pleasant with average temperatures between 15 and 25 °C (59 and 77 °F), and a fair amount of sunshine. Each year, however, there are a few days when the temperature rises above 32 °C (90 °F). Longer periods of more intense heat sometimes occur, such as the heat wave of 2003 when temperatures exceeded 30 °C (86 °F) for weeks, reached 40 °C (104 °F) on some days and rarely cooled down at night. Spring and autumn have, on average, mild days and cool nights but are changing and unstable. Surprisingly warm or cool weather occurs frequently in both seasons. In winter, sunshine is scarce; days are cool, and nights are cold but generally above freezing with low temperatures around 3 °C (37 °F). Light night frosts are however quite common, but the temperature seldom dips below −5 °C (23 °F). The city sometimes sees light snow or flurries with or without accumulation.Paris has an average annual precipitation of 641 mm (25.2 in), and experiences light rainfall distributed evenly throughout the year. However, the city is known for intermittent, abrupt, heavy showers. The highest recorded temperature was 42.6 °C (108.7 °F) on 25 July 2019, and the lowest was −23.9 °C (−11.0 °F) on 10 December 1879.\\n\\n\\n== Administration ==\\n\\n\\n=== City government ===\"),\n",
              " Document(metadata={'source': 'Wikipedia - Paris', 'start_index': 33351}, page_content=\"=== Housing ===\\nThe most expensive residential street in Paris in 2018 by average price per square metre was Avenue Montaigne, at 22,372 euros per square metre. The total number of residences in the City of Paris in 2011 was 1,356,074, up from a former high of 1,334,815 in 2006. Among these, 1,165,541 (85.9 percent) were main residences, 91,835 (6.8 percent) were secondary residences, and the remaining 7.3 percent were empty (down from 9.2 percent in 2006).Sixty-two percent of its buildings date from 1949 and before, 20 percent were built between 1949 and 1974, and only 18 percent of the buildings remaining were built after that date. Two-thirds of the city's 1.3 million residences are studio and two-room apartments. Paris averages 1.9 people per residence, a number that has remained constant since the 1980s, but it is much less than Île-de-France's 2.33 person-per-residence average. Only 33 percent of principal residence Parisians own their habitation (against 47 percent for the entire Île-de-France): the major part of the city's population is a rent-paying one. Social or public housing represented 19.9 percent of the city's total residences in 2017. Its distribution varies widely throughout the city, from 2.6 percent of the housing in the wealthy 7th arrondissement, to 39.9 percent in the 19th arrondissement.In February 2019, a Paris NGO conducted its annual citywide count of homeless persons. They counted 3,641 homeless persons in Paris, of whom twelve percent were women. More than half had been homeless for more than a year. 2,885 were living in the streets or parks, 298 in train and metro stations, and 756 in other forms of temporary shelter. This was an increase of 588 persons since 2018.\"),\n",
              " Document(metadata={'source': 'Wikipedia - Paris', 'start_index': 24121}, page_content=\"== Administration ==\\n\\n\\n=== City government ===\\n\\nFor almost all of its long history, except for a few brief periods, Paris was governed directly by representatives of the king, emperor, or president of France. The city was not granted municipal autonomy by the National Assembly until 1974. The first modern elected mayor of Paris was Jacques Chirac, elected 20 March 1977, becoming the city's first mayor since 1871 and only the fourth since 1794. The current mayor is Anne Hidalgo, a socialist, first elected 5 April 2014 and re-elected 28 June 2020.\\nThe mayor of Paris is elected indirectly by Paris voters; the voters of each of the city's 20 arrondissements elect members to the Conseil de Paris (Council of Paris), which subsequently elects the mayor. The council is composed of 163 members, with each arrondissement allocated a number of seats dependent upon its population, from 10 members for each of the least-populated arrondissements to 34 members for the most populated. The council is elected using closed list proportional representation in a two-round system. Party lists winning an absolute majority in the first round – or at least a plurality in the second round – automatically win half the seats of an arrondissement. The remaining half of seats are distributed proportionally to all lists which win at least 5% of the vote using the highest averages method. This ensures that the winning party or coalition always wins a majority of the seats, even if they do not win an absolute majority of the vote.Prior to the 2020 Paris municipal election, each of Paris's 20 arrondissements had its own town hall and a directly elected council (conseil d'arrondissement), which, in turn, elects an arrondissement mayor. The council of each arrondissement is composed of members of the Conseil de Paris and also members who serve only on the council of the arrondissement. The number of deputy mayors in each arrondissement varies depending upon its population. As of 1996, there were a total of 20 arrondissement mayors and 120 deputy mayors. The creation of Paris Centre, a unified administrative division with a single mayor covering the first four arrondissements, took effect with the said 2020 election; the other 16 arrondissements continue to have their own mayors.\\n\\n\\n=== Métropole du Grand Paris ===\\nThe Métropole du Grand Paris, or simply Grand Paris, formally came into existence on 1 January 2016. It is an administrative structure for co-operation between the City of Paris and its nearest suburbs. It includes the City of Paris, plus the communes of the three departments of the inner suburbs (Hauts-de-Seine, Seine-Saint-Denis and Val-de-Marne), plus seven communes in the outer suburbs, including Argenteuil in Val d'Oise and Paray-Vieille-Poste in Essonne, which were added to include the major airports of Paris. The Metropole covers 814 km2 (314 sq mi) and has a population of 6.945 million persons.The new structure is administered by a Metropolitan Council of 210 members, not directly elected, but chosen by the councils of the member Communes. By 2020 its basic competencies will include urban planning, housing and protection of the environment. The first president of the metropolitan council, Patrick Ollier, was elected on 22 January 2016. Though the Metropole has a population of nearly seven million people and accounts for 25 percent of the GDP of France, it has a very small budget: just 65 million Euros, compared with eight billion Euros for the City of Paris.\\n\\n\\n=== Regional government ===\\nThe Region of Île de France, including Paris and its surrounding communities, is governed by the Regional Council, composed of 209 members representing its different communes. On 15 December 2015, a list of candidates of the Union of the Right, a coalition of centrist and right-wing parties, led by Valérie Pécresse, narrowly won the regional election, defeating a coalition of Socialists and ecologists. The Socialists had governed the region for seventeen years. The regional council has 121 members from the Union of the Right, 66 from the Union of the Left and 22 from the extreme right National Front.\")]"
            ]
          },
          "metadata": {},
          "execution_count": 33
        }
      ]
    },
    {
      "cell_type": "code",
      "source": [
        "# 4. Génération\n",
        "\n",
        "# TODO : Écrivez un prompt indiquant au LLM qu'il doit répondre à la requête de l'utilisateur,\n",
        "# en pouvant éventuellement s'aider des cinq documents de contexte.\n",
        "# L'exécution de cette cellule de code doit produire une réponse textuelle contenant la solution à la requête.\n",
        "#\n",
        "# Vous pouvez utiliser les variables de formatage suivantes :\n",
        "# {query} - sera remplacé par la requête de l'utilisateur\n",
        "# {doc1}, {doc2}, ..., {doc5} - sera remplacé par le texte des cinq documents les plus proches de la requête\n",
        "# {src1}, {src2}, ..., {src5} - sera remplacé par la source des cinq documents les plus proches de la requête\n",
        "\n",
        "query = \"What is the average elevation in Jakarta and what is the highest temperature ever recorded in Tokyo?\"\n",
        "prompt = \"\"\"Answer the user's question using the provided context. Try to identify the most relevant context for answering the question and cite it using bracketed numbers like this: [1]. If the information is spread across multiple sources, combine them to create a comprehensive answer and cite all relevant sources accordingly.\n",
        "\n",
        "If the provided context is insufficient to answer the question, state that you are unable to provide an answer and explain why. Avoid using phrases like \"I do not have enough information\" or \"My internal knowledge base does not contain.\" Instead, provide specific reasons why the context is insufficient, such as \"The provided context primarily focuses on [topic] and does not contain information about [user's question].\"\n",
        "\n",
        "**Question:** {query}\n",
        "\n",
        "**Context:**\n",
        "\n",
        "{doc1} (Source : {src1})\n",
        "{doc2} (Source : {src2})\n",
        "{doc3} (Source : {src3})\n",
        "{doc4} (Source : {src4})\n",
        "{doc5} (Source : {src5})\n",
        "\n",
        "**SOURCES:**\n",
        "[1] {src1}\n",
        "[2] {src2}\n",
        "[3] {src3}\n",
        "[4] {src4}\n",
        "[5] {src5}\n",
        "\"\"\"\n",
        "\n",
        "sorted_docs = vectordb.similarity_search(query, k=5)\n",
        "doc1, doc2, doc3, doc4, doc5 = [doc.page_content for doc in sorted_docs[:5]]\n",
        "src1, src2, src3, src4, src5 = [doc.metadata['source'] for doc in sorted_docs[:5]]\n",
        "messages = [\n",
        "    {\"role\": \"user\", \"content\": prompt.format(query=query,\n",
        "                                              doc1=doc1, doc2=doc2, doc3=doc3, doc4=doc4, doc5=doc5,\n",
        "                                              src1=src1, src2=src2, src3=src3, src4=src4, src5=src5)},\n",
        "]\n",
        "\n",
        "print(llm_engine(messages))"
      ],
      "metadata": {
        "colab": {
          "base_uri": "https://localhost:8080/"
        },
        "id": "Zhx6BaI5gZus",
        "outputId": "9bd102f5-acc5-401a-841e-8c5e9d94969a"
      },
      "execution_count": null,
      "outputs": [
        {
          "output_type": "stream",
          "name": "stdout",
          "text": [
            "The provided context does not contain specific information about the average elevation in Jakarta or the highest temperature ever recorded in Tokyo. The context for Jakarta primarily discusses the city's climate, population, and some geographical features, but it does not mention the average elevation [1]. For Tokyo, the context provides information about the climate, including the record high temperature of 39.5 °C (103.1 °F) on July 20, 2004 [2], but it does not provide details on the city's elevation.\n",
            "\n",
            "To answer the specific parts of your question:\n",
            "- The average elevation in Jakarta is not provided in the context. However, general sources often report Jakarta's average elevation to be around 7 meters (23 feet) above sea level, with some parts of the city being below sea level.\n",
            "- The highest temperature ever recorded in Tokyo is 39.5 °C (103.1 °F), which was recorded on July 20, 2004 [2].\n",
            "\n",
            "If you need more precise or detailed information on Jakarta's elevation, you may need to consult a topographical map or a geological survey of the area.\n"
          ]
        }
      ]
    },
    {
      "cell_type": "code",
      "source": [
        "# 4. Génération\n",
        "\n",
        "# TODO : Écrivez un prompt indiquant au LLM qu'il doit répondre à la requête de l'utilisateur,\n",
        "# en pouvant éventuellement s'aider des cinq documents de contexte.\n",
        "# L'exécution de cette cellule de code doit produire une réponse textuelle contenant la solution à la requête.\n",
        "#\n",
        "# Vous pouvez utiliser les variables de formatage suivantes :\n",
        "# {query} - sera remplacé par la requête de l'utilisateur\n",
        "# {doc1}, {doc2}, ..., {doc5} - sera remplacé par le texte des cinq documents les plus proches de la requête\n",
        "# {src1}, {src2}, ..., {src5} - sera remplacé par la source des cinq documents les plus proches de la requête\n",
        "\n",
        "query = \"What cities have the most tourism?\"\n",
        "prompt = \"\"\"Answer the user's question using the provided context. Try to identify the most relevant context for answering the question and cite it using bracketed numbers like this: [1]. If the information is spread across multiple sources, combine them to create a comprehensive answer and cite all relevant sources accordingly.\n",
        "\n",
        "If the provided context is insufficient to answer the question, state that you are unable to provide an answer and explain why. Avoid using phrases like \"I do not have enough information\" or \"My internal knowledge base does not contain.\" Instead, provide specific reasons why the context is insufficient, such as \"The provided context primarily focuses on [topic] and does not contain information about [user's question].\"\n",
        "\n",
        "**Question:** {query}\n",
        "\n",
        "**Context:**\n",
        "\n",
        "{doc1} (Source : {src1})\n",
        "{doc2} (Source : {src2})\n",
        "{doc3} (Source : {src3})\n",
        "{doc4} (Source : {src4})\n",
        "{doc5} (Source : {src5})\n",
        "\n",
        "**SOURCES:**\n",
        "[1] {src1}\n",
        "[2] {src2}\n",
        "[3] {src3}\n",
        "[4] {src4}\n",
        "[5] {src5}\n",
        "\"\"\"\n",
        "sorted_docs = vectordb.similarity_search(query, k=5)\n",
        "doc1, doc2, doc3, doc4, doc5 = [doc.page_content for doc in sorted_docs[:5]]\n",
        "src1, src2, src3, src4, src5 = [doc.metadata['source'] for doc in sorted_docs[:5]]\n",
        "messages = [\n",
        "    {\"role\": \"user\", \"content\": prompt.format(query=query,\n",
        "                                              doc1=doc1, doc2=doc2, doc3=doc3, doc4=doc4, doc5=doc5,\n",
        "                                              src1=src1, src2=src2, src3=src3, src4=src4, src5=src5)},\n",
        "]\n",
        "\n",
        "print(llm_engine(messages))"
      ],
      "metadata": {
        "colab": {
          "base_uri": "https://localhost:8080/"
        },
        "id": "z-EdBE4gjLcZ",
        "outputId": "35b54e09-789c-4aa8-ba78-e3ff5a3b5477"
      },
      "execution_count": null,
      "outputs": [
        {
          "output_type": "stream",
          "name": "stdout",
          "text": [
            "Based on the provided context, here are some cities with significant tourism:\n",
            "\n",
            "1. **Venice, Italy**: Venice is a major tourist destination, receiving between 22 million to 30 million visitors annually. It is known for its art, architecture, and cultural heritage, including attractions like St Mark's Basilica, the Doge's Palace, and the Grand Canal [2].\n",
            "\n",
            "2. **Milan, Italy**: Milan is the world's 15th-most visited city, with 8.81 million registered international arrivals in 2018. It is popular for its historical and cultural attractions, such as the Milan Cathedral, the Teatro alla Scala, and the Galleria Vittorio Emanuele II [3].\n",
            "\n",
            "3. **Florence, Italy**: Florence is the world's 36th most visited city, with over 4.95 million arrivals in 2015. It is renowned for its rich cultural and historical sites, including the Uffizi and Accademia museums, and the Ponte Vecchio [4].\n",
            "\n",
            "4. **Melbourne, Australia**: Melbourne is the second most visited city in Australia and the seventy-third most visited city in the world, with 10.8 million domestic overnight tourists and 2.9 million international overnight tourists in 2018. It is known for its cultural attractions, culinary scene, and annual events [5].\n",
            "\n",
            "These cities are among the most visited based on the provided context, each offering unique attractions and experiences for tourists.\n"
          ]
        }
      ]
    },
    {
      "cell_type": "code",
      "source": [
        "# 4. Génération\n",
        "\n",
        "# TODO : Écrivez un prompt indiquant au LLM qu'il doit répondre à la requête de l'utilisateur,\n",
        "# en pouvant éventuellement s'aider des cinq documents de contexte.\n",
        "# L'exécution de cette cellule de code doit produire une réponse textuelle contenant la solution à la requête.\n",
        "#\n",
        "# Vous pouvez utiliser les variables de formatage suivantes :\n",
        "# {query} - sera remplacé par la requête de l'utilisateur\n",
        "# {doc1}, {doc2}, ..., {doc5} - sera remplacé par le texte des cinq documents les plus proches de la requête\n",
        "# {src1}, {src2}, ..., {src5} - sera remplacé par la source des cinq documents les plus proches de la requête\n",
        "\n",
        "query = \"What cities have the most tourism in France?\"\n",
        "prompt = \"\"\"Answer the user's question using the provided context. Try to identify the most relevant context for answering the question and cite it using bracketed numbers like this: [1]. If the information is spread across multiple sources, combine them to create a comprehensive answer and cite all relevant sources accordingly.\n",
        "\n",
        "If the provided context is insufficient to answer the question, state that you are unable to provide an answer and explain why. Avoid using phrases like \"I do not have enough information\" or \"My internal knowledge base does not contain.\" Instead, provide specific reasons why the context is insufficient, such as \"The provided context primarily focuses on [topic] and does not contain information about [user's question].\"\n",
        "\n",
        "**Question:** {query}\n",
        "\n",
        "**Context:**\n",
        "\n",
        "{doc1} (Source : {src1})\n",
        "{doc2} (Source : {src2})\n",
        "{doc3} (Source : {src3})\n",
        "{doc4} (Source : {src4})\n",
        "{doc5} (Source : {src5})\n",
        "\n",
        "**SOURCES:**\n",
        "[1] {src1}\n",
        "[2] {src2}\n",
        "[3] {src3}\n",
        "[4] {src4}\n",
        "[5] {src5}\n",
        "\"\"\"\n",
        "sorted_docs = vectordb.similarity_search(query, k=5)\n",
        "doc1, doc2, doc3, doc4, doc5 = [doc.page_content for doc in sorted_docs[:5]]\n",
        "src1, src2, src3, src4, src5 = [doc.metadata['source'] for doc in sorted_docs[:5]]\n",
        "messages = [\n",
        "    {\"role\": \"user\", \"content\": prompt.format(query=query,\n",
        "                                              doc1=doc1, doc2=doc2, doc3=doc3, doc4=doc4, doc5=doc5,\n",
        "                                              src1=src1, src2=src2, src3=src3, src4=src4, src5=src5)},\n",
        "]\n",
        "\n",
        "print(llm_engine(messages))"
      ],
      "metadata": {
        "colab": {
          "base_uri": "https://localhost:8080/"
        },
        "id": "CNjoOr2IjmUM",
        "outputId": "157fa50e-92a4-40fc-93ef-b6fb3814740e"
      },
      "execution_count": null,
      "outputs": [
        {
          "output_type": "stream",
          "name": "stdout",
          "text": [
            "The cities with the most tourism in France, based on the provided context, are Paris, Marseille, and Rennes. However, Paris stands out significantly as the primary tourist destination:\n",
            "\n",
            "1. **Paris** [1]: Paris is not only the capital and most populous city of France but also one of the world's major centers of finance, diplomacy, commerce, culture, fashion, and gastronomy. It is renowned for its museums, architectural landmarks, and cultural events. Key attractions include the Louvre, Musée d'Orsay, and the historic district along the Seine, which is a UNESCO World Heritage Site. The city's major museums, such as the Louvre, attract millions of visitors annually, with the Louvre alone receiving 8.9 million visitors in 2023. Paris also hosts significant events like the French Open, the Tour de France, and the Olympic Games.\n",
            "\n",
            "2. **Marseille** [4]: Marseille is the third-largest metropolitan area in France and is listed as a major center of art and history. It has a rich array of museums and historical sites, including the Old Port, the Cathedral of Sainte-Marie-Majeure, and the Abbey of Saint-Victor. The city's Mediterranean climate and coastal beauty, combined with its cultural and historical significance, make it a popular tourist destination.\n",
            "\n",
            "3. **Rennes** [3]: While Rennes is less prominent in the provided context for tourism, it is known for its historical and cultural attractions, such as the Fine Arts Museum, the Thabor Park, and the historic buildings in its city center. However, the information provided does not give specific visitor numbers or detailed tourism data for Rennes compared to Paris and Marseille.\n",
            "\n",
            "In summary, Paris is the most prominent tourist destination in France, followed by Marseille, with Rennes being a notable but less detailed tourist destination in the provided context.\n"
          ]
        }
      ]
    },
    {
      "cell_type": "markdown",
      "source": [
        "## Système complet\n",
        "\n",
        "Il ne nous reste désormais plus qu'à combiner les différentes parties précédentes afin de générer un système complet."
      ],
      "metadata": {
        "id": "i6tf4Jay0ltV"
      }
    },
    {
      "cell_type": "code",
      "source": [
        "user_query = input('Assistant: Hello! How may I help you today?\\n\\nUser: ')\n",
        "messages = []\n",
        "\n",
        "while user_query != \"Exit\":\n",
        "    sorted_docs = vectordb.similarity_search(user_query, k=5)\n",
        "    doc1, doc2, doc3, doc4, doc5 = [doc.page_content for doc in sorted_docs[:5]]\n",
        "    src1, src2, src3, src4, src5 = [doc.metadata['source'] for doc in sorted_docs[:5]]\n",
        "    messages.append({\"role\": \"user\", \"content\": prompt.format(query=user_query,\n",
        "                                                              doc1=doc1, doc2=doc2, doc3=doc3, doc4=doc4, doc5=doc5,\n",
        "                                                              src1=src1, src2=src2, src3=src3, src4=src4, src5=src5)})\n",
        "    answer = llm_engine(messages)\n",
        "    print()\n",
        "    print(f'Assistant: {answer}')\n",
        "    print()\n",
        "    messages.append({\"role\": \"assistant\", \"content\": answer})\n",
        "    user_query = input('User: ')\n",
        "\n",
        "\n",
        "messages = [{\"role\": \"user\", \"content\": initial_message}]"
      ],
      "metadata": {
        "id": "Z1bQMDhq03yN",
        "colab": {
          "base_uri": "https://localhost:8080/",
          "height": 651
        },
        "outputId": "937ac160-0fb4-487e-b0b7-17a16a111e51"
      },
      "execution_count": null,
      "outputs": [
        {
          "output_type": "stream",
          "name": "stdout",
          "text": [
            "Assistant: Hello! How may I help you today?\n",
            "\n",
            "User: What cities have the most tourism in Italy?\n",
            "\n",
            "Assistant: Based on the provided context, the cities with the most tourism in Italy are:\n",
            "\n",
            "1. **Rome** - Although not detailed in the provided context, it is mentioned that Milan ranks second in Italy for tourism, implying that Rome is the top destination. [1]\n",
            "2. **Milan** - Known for its significant tourism, Milan attracted 8.81 million registered international arrivals in 2018, making it the second most visited city in Italy and the 15th most visited in the world. [1]\n",
            "3. **Venice** - An important tourist destination, Venice sees up to 60,000 tourists per day and hosts between 22 to 30 million annual visitors. It is known for its art, architecture, and rich cultural heritage. [2]\n",
            "4. **Florence** - A major cultural and historical destination, Florence had 4.95 million arrivals in 2015 and is the 36th most visited city in the world. It is renowned for its museums, art, and cultural attractions. [3]\n",
            "\n",
            "These cities stand out as the top tourist destinations in Italy based on the information provided.\n",
            "\n",
            "User: Thanks\n",
            "\n",
            "Assistant: You're welcome! If you have any more questions or need further information, feel free to ask.\n",
            "\n"
          ]
        },
        {
          "output_type": "error",
          "ename": "KeyboardInterrupt",
          "evalue": "Interrupted by user",
          "traceback": [
            "\u001b[0;31m---------------------------------------------------------------------------\u001b[0m",
            "\u001b[0;31mKeyboardInterrupt\u001b[0m                         Traceback (most recent call last)",
            "\u001b[0;32m<ipython-input-43-99ae757589e1>\u001b[0m in \u001b[0;36m<cell line: 4>\u001b[0;34m()\u001b[0m\n\u001b[1;32m     14\u001b[0m     \u001b[0mprint\u001b[0m\u001b[0;34m(\u001b[0m\u001b[0;34m)\u001b[0m\u001b[0;34m\u001b[0m\u001b[0;34m\u001b[0m\u001b[0m\n\u001b[1;32m     15\u001b[0m     \u001b[0mmessages\u001b[0m\u001b[0;34m.\u001b[0m\u001b[0mappend\u001b[0m\u001b[0;34m(\u001b[0m\u001b[0;34m{\u001b[0m\u001b[0;34m\"role\"\u001b[0m\u001b[0;34m:\u001b[0m \u001b[0;34m\"assistant\"\u001b[0m\u001b[0;34m,\u001b[0m \u001b[0;34m\"content\"\u001b[0m\u001b[0;34m:\u001b[0m \u001b[0manswer\u001b[0m\u001b[0;34m}\u001b[0m\u001b[0;34m)\u001b[0m\u001b[0;34m\u001b[0m\u001b[0;34m\u001b[0m\u001b[0m\n\u001b[0;32m---> 16\u001b[0;31m     \u001b[0muser_query\u001b[0m \u001b[0;34m=\u001b[0m \u001b[0minput\u001b[0m\u001b[0;34m(\u001b[0m\u001b[0;34m'User: '\u001b[0m\u001b[0;34m)\u001b[0m\u001b[0;34m\u001b[0m\u001b[0;34m\u001b[0m\u001b[0m\n\u001b[0m\u001b[1;32m     17\u001b[0m \u001b[0;34m\u001b[0m\u001b[0m\n\u001b[1;32m     18\u001b[0m \u001b[0;34m\u001b[0m\u001b[0m\n",
            "\u001b[0;32m/usr/local/lib/python3.10/dist-packages/ipykernel/kernelbase.py\u001b[0m in \u001b[0;36mraw_input\u001b[0;34m(self, prompt)\u001b[0m\n\u001b[1;32m    849\u001b[0m                 \u001b[0;34m\"raw_input was called, but this frontend does not support input requests.\"\u001b[0m\u001b[0;34m\u001b[0m\u001b[0;34m\u001b[0m\u001b[0m\n\u001b[1;32m    850\u001b[0m             )\n\u001b[0;32m--> 851\u001b[0;31m         return self._input_request(str(prompt),\n\u001b[0m\u001b[1;32m    852\u001b[0m             \u001b[0mself\u001b[0m\u001b[0;34m.\u001b[0m\u001b[0m_parent_ident\u001b[0m\u001b[0;34m,\u001b[0m\u001b[0;34m\u001b[0m\u001b[0;34m\u001b[0m\u001b[0m\n\u001b[1;32m    853\u001b[0m             \u001b[0mself\u001b[0m\u001b[0;34m.\u001b[0m\u001b[0m_parent_header\u001b[0m\u001b[0;34m,\u001b[0m\u001b[0;34m\u001b[0m\u001b[0;34m\u001b[0m\u001b[0m\n",
            "\u001b[0;32m/usr/local/lib/python3.10/dist-packages/ipykernel/kernelbase.py\u001b[0m in \u001b[0;36m_input_request\u001b[0;34m(self, prompt, ident, parent, password)\u001b[0m\n\u001b[1;32m    893\u001b[0m             \u001b[0;32mexcept\u001b[0m \u001b[0mKeyboardInterrupt\u001b[0m\u001b[0;34m:\u001b[0m\u001b[0;34m\u001b[0m\u001b[0;34m\u001b[0m\u001b[0m\n\u001b[1;32m    894\u001b[0m                 \u001b[0;31m# re-raise KeyboardInterrupt, to truncate traceback\u001b[0m\u001b[0;34m\u001b[0m\u001b[0;34m\u001b[0m\u001b[0m\n\u001b[0;32m--> 895\u001b[0;31m                 \u001b[0;32mraise\u001b[0m \u001b[0mKeyboardInterrupt\u001b[0m\u001b[0;34m(\u001b[0m\u001b[0;34m\"Interrupted by user\"\u001b[0m\u001b[0;34m)\u001b[0m \u001b[0;32mfrom\u001b[0m \u001b[0;32mNone\u001b[0m\u001b[0;34m\u001b[0m\u001b[0;34m\u001b[0m\u001b[0m\n\u001b[0m\u001b[1;32m    896\u001b[0m             \u001b[0;32mexcept\u001b[0m \u001b[0mException\u001b[0m \u001b[0;32mas\u001b[0m \u001b[0me\u001b[0m\u001b[0;34m:\u001b[0m\u001b[0;34m\u001b[0m\u001b[0;34m\u001b[0m\u001b[0m\n\u001b[1;32m    897\u001b[0m                 \u001b[0mself\u001b[0m\u001b[0;34m.\u001b[0m\u001b[0mlog\u001b[0m\u001b[0;34m.\u001b[0m\u001b[0mwarning\u001b[0m\u001b[0;34m(\u001b[0m\u001b[0;34m\"Invalid Message:\"\u001b[0m\u001b[0;34m,\u001b[0m \u001b[0mexc_info\u001b[0m\u001b[0;34m=\u001b[0m\u001b[0;32mTrue\u001b[0m\u001b[0;34m)\u001b[0m\u001b[0;34m\u001b[0m\u001b[0;34m\u001b[0m\u001b[0m\n",
            "\u001b[0;31mKeyboardInterrupt\u001b[0m: Interrupted by user"
          ]
        }
      ]
    },
    {
      "cell_type": "markdown",
      "source": [
        "### Personnalisation\n",
        "\n",
        "Qwen-2.5-72B est suffisamment grand pour avoir des facultés élevées, il est donc possible de lui donner un prompt complexe.\n",
        "\n",
        "Ajustez votre prompt précédent afin d'améliorer l'expérience utilisateur. Voici une liste (non exhaustive) de fonctionnalités que vous pouvez rajouter :\n",
        "- Liste des sources utilisés après la réponse, seulement si des sources ont été utilisées\n",
        "- Numérotation des sources dans le texte de réponse et dans la liste des sources\n",
        "- Lien vers la page Wikipedia\n",
        "- Lien vers la section de la page Wikipedia, si applicable\n",
        "- \"Transparence\" de l'interface de RAG : le LLM n'utilise jamais les mots \"documents\", \"information\" ou \"context\", mais fait référence aux données qu'il connait et aux sources externes\n",
        "\n",
        "Un exemple de conversation possible est donné ci-dessous :\n",
        "\n",
        "```\n",
        "Assistant: Hello! How may I help you today?\n",
        "\n",
        "User: What is the average elevation in Jakarta and what is the highest temperature ever recorded in Tokyo?\n",
        "\n",
        "Assistant: Jakarta lies on the northwest coast of Java, and I do not know its specific average elevation, Jakarta is prone to flooding due to its low-lying areas near the coast, which suggests that much of the city is close to sea level or slightly above it [1].\n",
        "\n",
        "The highest temperature ever recorded in Tokyo was 39.5 °C (103.1 °F) on July 20, 2004 [2].\n",
        "\n",
        " SOURCES:\n",
        " 1. [Jakarta - Wikipedia](https://en.wikipedia.org/wiki/Jakarta#Geography)\n",
        " 2. [Tokyo - Wikipedia](https://en.wikipedia.org/wiki/Tokyo#Climate)\n",
        "\n",
        "User: What is the population of Grenoble?\n",
        "\n",
        "Assistant: The population of the commune of Grenoble was 158,198 as of 2019 [1].\n",
        "\n",
        " SOURCES:\n",
        " 1. [Grenoble - Wikipedia](https://en.wikipedia.org/wiki/Grenoble#Population)\n",
        "\n",
        "User: What is 2+2?\n",
        "\n",
        "Assistant: 2+2 equals 4.\n",
        "\n",
        "User: What cities have the most tourism?\n",
        "\n",
        "Assistant: Here are some cities known for having significant tourism:\n",
        "\n",
        "1. **Venice** [1]: Venice attracts up to 60,000 tourists per day and estimates of the annual number of tourists range from 22 million to 30 million. The city is known for its art, architecture, and cultural heritage, making it a major tourist destination.\n",
        "\n",
        "2. **Milan** [2]: In 2018, Milan recorded 8.81 million registered international arrivals, ranking it as the world's 15th-most visited city. It is a major tourist destination, with popular attractions like the Milan Cathedral, the Teatro alla Scala, and the Galleria Vittorio Emanuele II.\n",
        "\n",
        "3. **Florence** [3]: Florence is a significant tourist destination, with the Uffizi selling over 1.93 million tickets in 2014. In 2016, the city had 20,588 hotel rooms in 570 facilities, with international visitors using 75% of the rooms. In 2014, the city had 8.5 million overnight stays and was ranked as the world's 36th most visited city with over 4.95 million arrivals.\n",
        "\n",
        "4. **Melbourne** [4]: Melbourne is the second most visited city in Australia and the 73rd most visited city in the world. In 2018, it received 10.8 million domestic overnight tourists and 2.9 million international overnight tourists. Popular attractions include Federation Square, Queen Victoria Market, Crown Casino, and the National Gallery of Victoria.\n",
        "\n",
        " SOURCES:\n",
        " 1. [Venice - Wikipedia](https://en.wikipedia.org/wiki/Venice#Tourism)\n",
        " 2. [Milan - Wikipedia](https://en.wikipedia.org/wiki/Milan#Tourism)\n",
        " 3. [Florence - Wikipedia](https://en.wikipedia.org/wiki/Florence#Tourism)\n",
        " 4. [Melbourne - Wikipedia](https://en.wikipedia.org/wiki/Melbourne#Tourism)\n",
        "```\n"
      ],
      "metadata": {
        "id": "QShMoB2g84qW"
      }
    },
    {
      "cell_type": "markdown",
      "source": [
        "## Agents haut niveau\n",
        "\n",
        "La bibliothèque `transformers` offre une interface permettant d'abstraire plusieurs concepts vus précédemment. En effet, elle dispose d'une classe `Agent`, représentant un LLM capable d'utiliser des outils (classe `Tool`) pour mener à bien une tâche.\n",
        "\n",
        "Commençons par définir un outil correspondant au fait de chercher un document dans notre base de données :"
      ],
      "metadata": {
        "id": "5EN_LYKlApVq"
      }
    },
    {
      "cell_type": "code",
      "source": [
        "class RetrieverTool(Tool):\n",
        "    # Métadonnées décrivant l'outil, ainsi que le type d'entrées et de sorties qu'il accepte\n",
        "    name = \"retriever\"\n",
        "    description = \"Retrieves documents using semantic similarity.\"\n",
        "    inputs = {\n",
        "        \"query\": {\n",
        "            \"type\": \"string\",\n",
        "            \"description\": \"A query string to retrieve documents.\"\n",
        "        }\n",
        "    }\n",
        "    output_type = \"string\"\n",
        "\n",
        "    # Création de l'outil\n",
        "    def __init__(self, vectordb):\n",
        "        super().__init__()\n",
        "        self.vectordb = vectordb\n",
        "\n",
        "    # Appel de l'outil à partir d'une requête; ici, on veut renvoyer les documents les plus proches de la requête.\n",
        "    def forward(self, query: str) -> str:\n",
        "        if not isinstance(query, str):\n",
        "            raise TypeError(\"Query must be a string.\")\n",
        "        docs = self.vectordb.similarity_search(query, k=5)\n",
        "        return \"\\n\".join([doc.page_content for doc in docs])\n",
        "\n",
        "\n",
        "retriever_tool = RetrieverTool(vectordb=vectordb)"
      ],
      "metadata": {
        "id": "wQqHFhx8klUr",
        "collapsed": true
      },
      "execution_count": null,
      "outputs": []
    },
    {
      "cell_type": "markdown",
      "source": [
        "Nous sommes ici intéressés par l'utilisation de [ReAct](https://www.promptingguide.ai/techniques/react), une technique de prompting qui combine des étapes de planification (proches du promptage par chaîne de pensée) et des étapes d'action (utilisation d'outils)."
      ],
      "metadata": {
        "id": "lAB--GrtC4k5"
      }
    },
    {
      "cell_type": "code",
      "source": [
        "agent = ReactJsonAgent(\n",
        "    tools=[retriever_tool],  # Liste des outils utilisables par l'agent\n",
        "    llm_engine=llm_engine,\n",
        "    max_iterations=5,  # Nombres d'itérations maximum\n",
        "    verbose=False,\n",
        ")\n",
        "\n",
        "logging.getLogger().setLevel(logging.WARNING)  # Rend la sortie moins verbeuse"
      ],
      "metadata": {
        "id": "8SGaLjfnmB_F"
      },
      "execution_count": null,
      "outputs": []
    },
    {
      "cell_type": "code",
      "source": [
        "user_question = \"What are the names of the two main regions of Mumbai?\"\n",
        "response = agent.run(user_question)\n",
        "print(f\"Agent response: {response}\")"
      ],
      "metadata": {
        "id": "Fe0j3RbXCiaZ",
        "colab": {
          "base_uri": "https://localhost:8080/"
        },
        "outputId": "341646a2-8a90-4bda-c13f-a40dfa1a2de3"
      },
      "execution_count": null,
      "outputs": [
        {
          "output_type": "stream",
          "name": "stderr",
          "text": [
            "\u001b[32;20;1m======== New task ========\u001b[0m\n",
            "\u001b[37;1mWhat are the names of the two main regions of Mumbai?\u001b[0m\n",
            "\u001b[33;1m=== Agent thoughts:\u001b[0m\n",
            "\u001b[0mThought: I need to search for information about the main regions of Mumbai.\u001b[0m\n",
            "\u001b[33;1m>>> Calling tool: 'retriever' with arguments: {'query': 'main regions of Mumbai'}\u001b[0m\n",
            "\u001b[33;1m=== Agent thoughts:\u001b[0m\n",
            "\u001b[0mThought: I have the information I need to answer the question.\u001b[0m\n",
            "\u001b[33;1m>>> Calling tool: 'final_answer' with arguments: {'answer': 'Mumbai City district and Mumbai Suburban district'}\u001b[0m\n"
          ]
        },
        {
          "output_type": "stream",
          "name": "stdout",
          "text": [
            "Agent response: Mumbai City district and Mumbai Suburban district\n"
          ]
        }
      ]
    },
    {
      "cell_type": "markdown",
      "source": [
        "## Questions et bonus\n",
        "\n",
        "- Nous avons choisi arbitrairement de toujours renvoyer 5 documents par requête. Dans quelle(s) situation(s) cela peut-il poser problème et pourquoi ? Quelles idées potentielles auriez-vous pour remédier à cela ?\n",
        "\n",
        "Problèmes:\n",
        "\n",
        "Pertinence insuffisante: Si la requête est complexe ou ambigüe, 5 documents peuvent ne pas suffire pour fournir un contexte complet au LLM, ce qui peut mener à des réponses incomplètes ou inexactes.\n",
        "\n",
        "Redondance: Si la requête est simple ou si les documents de la base de données sont très similaires, renvoyer 5 documents peut amener à de la redondance, gaspillant des ressources de calcul et rendant la réponse plus difficile à lire.\n",
        "\n",
        "Biais potentiel: Le choix arbitraire de 5 documents peut introduire un biais dans les réponses du LLM, si les documents sélectionnés ne représentent pas l'ensemble des informations pertinentes sur le sujet.\n",
        "\n",
        "Idées de remèdes:\n",
        "\n",
        "Nombre de documents dynamique: Ajuster le nombre de documents renvoyés en fonction de la complexité de la requête et de la diversité des documents pertinents dans la base de données. On pourrait par exemple utiliser un seuil de similarité pour ne renvoyer que les documents significativement différents.\n",
        "\n",
        "Clustering des documents: Regrouper les documents similaires en clusters et renvoyer un représentant de chaque cluster, pour éviter la redondance et augmenter la diversité des informations.\n",
        "\n",
        "Métriques de pertinence: Utiliser des métriques plus avancées que la simple similarité cosinus pour sélectionner les documents les plus pertinents, par exemple en combinant des scores de similarité avec des informations sur la structure du document ou la fréquence des termes.\n",
        "\n",
        "- Similairement, une seule requête est faite par message de l'utilisateur. Est-ce toujours approprié ? Quelles pistes d'amélioration pouvez-vous proposer ?\n"
      ],
      "metadata": {
        "id": "WybZLj1cF4wT"
      }
    },
    {
      "cell_type": "markdown",
      "source": [
        "--\n",
        "\n",
        "\n",
        "S'il vous reste du temps, voici deux tâches supplémentaires :\n",
        "\n",
        "### Récupération\n",
        "\n",
        "Bien que la distance entre embeddings soit la méthode la plus courante pour la récupération des documents, d'autres existent. LangChain en supporte [beaucoup](https://python.langchain.com/docs/integrations/retrievers/) d'autres. Certaines méthodes permettent même de faire directement des recherches en ligne, et donc de ne pas avoir de collection locale : c'est le cas par exemple du récupérateur PubMed (qui cherche des articles de recherche en médecine) ou de celui de Google Drive (qui cherche des documents dans un dossier Google Drive).\n",
        "\n",
        "1. En utilisant les pages de documentation correspondantes, modifiez le code du TP pour plutôt utiliser [la TF-IDF](https://python.langchain.com/docs/integrations/retrievers/tf_idf/). Observez-vous une différence significative en termes de performance ?\n",
        "\n",
        "2. LangChain dispose déjà d'une méthode de récupération [basée sur Wikipedia](https://python.langchain.com/docs/integrations/retrievers/wikipedia/). Modifiez le code du TP pour utiliser celle-ci plutôt que notre base de données réduite.\n",
        "\n"
      ],
      "metadata": {
        "id": "M0Rv42xtd_62"
      }
    },
    {
      "cell_type": "code",
      "source": [
        "!pip install scikit-learn\n",
        "from langchain.vectorstores import SKLearnVectorStore\n",
        "from langchain.text_splitter import CharacterTextSplitter\n",
        "from sklearn.feature_extraction.text import TfidfVectorizer"
      ],
      "metadata": {
        "id": "3abUmuBuLi1Q",
        "colab": {
          "base_uri": "https://localhost:8080/"
        },
        "outputId": "ebb1fdbd-5ccc-44bd-b4f7-481d43f942b0"
      },
      "execution_count": null,
      "outputs": [
        {
          "output_type": "stream",
          "name": "stdout",
          "text": [
            "Requirement already satisfied: scikit-learn in /usr/local/lib/python3.10/dist-packages (1.5.2)\n",
            "Requirement already satisfied: numpy>=1.19.5 in /usr/local/lib/python3.10/dist-packages (from scikit-learn) (1.26.4)\n",
            "Requirement already satisfied: scipy>=1.6.0 in /usr/local/lib/python3.10/dist-packages (from scikit-learn) (1.13.1)\n",
            "Requirement already satisfied: joblib>=1.2.0 in /usr/local/lib/python3.10/dist-packages (from scikit-learn) (1.4.2)\n",
            "Requirement already satisfied: threadpoolctl>=3.1.0 in /usr/local/lib/python3.10/dist-packages (from scikit-learn) (3.5.0)\n"
          ]
        }
      ]
    },
    {
      "cell_type": "code",
      "source": [
        "vectorizer = TfidfVectorizer()\n",
        "text_splitter = CharacterTextSplitter(chunk_size=1000, chunk_overlap=100)\n",
        "\n",
        "# Split documents and create a list of texts and metadata\n",
        "texts = []\n",
        "metadatas = []\n",
        "for doc in source_docs:\n",
        "    splits = text_splitter.split_text(doc.page_content)\n",
        "    texts.extend(splits)\n",
        "    metadatas.extend([doc.metadata] * len(splits))  # Associate metadata with splits\n",
        "\n",
        "# Create and fit the vector store\n",
        "vectordb = SKLearnVectorStore.from_texts(texts, vectorizer, metadatas=metadatas)"
      ],
      "metadata": {
        "id": "6IsmiEnLeRF3"
      },
      "execution_count": null,
      "outputs": []
    }
  ]
}